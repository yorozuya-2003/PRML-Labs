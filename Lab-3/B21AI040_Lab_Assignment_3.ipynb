{
 "cells": [
  {
   "cell_type": "code",
   "execution_count": 1,
   "id": "d02766e8",
   "metadata": {},
   "outputs": [],
   "source": [
    "import pandas as pd\n",
    "import numpy as np\n",
    "import matplotlib.pyplot as plt\n",
    "import math\n",
    "import warnings\n",
    "import seaborn as sns\n",
    "\n",
    "warnings.filterwarnings(\"ignore\")"
   ]
  },
  {
   "cell_type": "code",
   "execution_count": 2,
   "id": "5fd26a51",
   "metadata": {},
   "outputs": [],
   "source": [
    "from sklearn.preprocessing import StandardScaler\n",
    "from sklearn.metrics import roc_auc_score, plot_roc_curve, mean_squared_error as mse\n",
    "from sklearn.tree import DecisionTreeClassifier\n",
    "from sklearn.naive_bayes import GaussianNB\n",
    "from sklearn.model_selection import train_test_split, validation_curve, cross_val_score, KFold"
   ]
  },
  {
   "cell_type": "markdown",
   "id": "077fbca2",
   "metadata": {},
   "source": [
    "---\n",
    "# Q1\n",
    "---"
   ]
  },
  {
   "cell_type": "markdown",
   "id": "d07819f6",
   "metadata": {},
   "source": [
    "### (1) Perform pre-processing and visualization of the dataset. Split the data into train and test sets. Also identify the useful columns and drop the unnecessary ones."
   ]
  },
  {
   "cell_type": "code",
   "execution_count": 3,
   "id": "7e8bc820",
   "metadata": {},
   "outputs": [
    {
     "data": {
      "text/html": [
       "<div>\n",
       "<style scoped>\n",
       "    .dataframe tbody tr th:only-of-type {\n",
       "        vertical-align: middle;\n",
       "    }\n",
       "\n",
       "    .dataframe tbody tr th {\n",
       "        vertical-align: top;\n",
       "    }\n",
       "\n",
       "    .dataframe thead th {\n",
       "        text-align: right;\n",
       "    }\n",
       "</style>\n",
       "<table border=\"1\" class=\"dataframe\">\n",
       "  <thead>\n",
       "    <tr style=\"text-align: right;\">\n",
       "      <th></th>\n",
       "      <th>PassengerId</th>\n",
       "      <th>Name</th>\n",
       "      <th>Pclass</th>\n",
       "      <th>Sex</th>\n",
       "      <th>Age</th>\n",
       "      <th>Ticket</th>\n",
       "      <th>Fare</th>\n",
       "      <th>Cabin</th>\n",
       "      <th>Embarked</th>\n",
       "      <th>Survived</th>\n",
       "    </tr>\n",
       "  </thead>\n",
       "  <tbody>\n",
       "    <tr>\n",
       "      <th>0</th>\n",
       "      <td>1</td>\n",
       "      <td>Braund, Mr. Owen Harris</td>\n",
       "      <td>3</td>\n",
       "      <td>male</td>\n",
       "      <td>22.0</td>\n",
       "      <td>A/5 21171</td>\n",
       "      <td>7.2500</td>\n",
       "      <td>NaN</td>\n",
       "      <td>S</td>\n",
       "      <td>0</td>\n",
       "    </tr>\n",
       "    <tr>\n",
       "      <th>1</th>\n",
       "      <td>2</td>\n",
       "      <td>Cumings, Mrs. John Bradley (Florence Briggs Th...</td>\n",
       "      <td>1</td>\n",
       "      <td>female</td>\n",
       "      <td>38.0</td>\n",
       "      <td>PC 17599</td>\n",
       "      <td>71.2833</td>\n",
       "      <td>C85</td>\n",
       "      <td>C</td>\n",
       "      <td>1</td>\n",
       "    </tr>\n",
       "    <tr>\n",
       "      <th>2</th>\n",
       "      <td>3</td>\n",
       "      <td>Heikkinen, Miss. Laina</td>\n",
       "      <td>3</td>\n",
       "      <td>female</td>\n",
       "      <td>26.0</td>\n",
       "      <td>STON/O2. 3101282</td>\n",
       "      <td>7.9250</td>\n",
       "      <td>NaN</td>\n",
       "      <td>S</td>\n",
       "      <td>1</td>\n",
       "    </tr>\n",
       "    <tr>\n",
       "      <th>3</th>\n",
       "      <td>4</td>\n",
       "      <td>Futrelle, Mrs. Jacques Heath (Lily May Peel)</td>\n",
       "      <td>1</td>\n",
       "      <td>female</td>\n",
       "      <td>35.0</td>\n",
       "      <td>113803</td>\n",
       "      <td>53.1000</td>\n",
       "      <td>C123</td>\n",
       "      <td>S</td>\n",
       "      <td>1</td>\n",
       "    </tr>\n",
       "    <tr>\n",
       "      <th>4</th>\n",
       "      <td>5</td>\n",
       "      <td>Allen, Mr. William Henry</td>\n",
       "      <td>3</td>\n",
       "      <td>male</td>\n",
       "      <td>35.0</td>\n",
       "      <td>373450</td>\n",
       "      <td>8.0500</td>\n",
       "      <td>NaN</td>\n",
       "      <td>S</td>\n",
       "      <td>0</td>\n",
       "    </tr>\n",
       "    <tr>\n",
       "      <th>...</th>\n",
       "      <td>...</td>\n",
       "      <td>...</td>\n",
       "      <td>...</td>\n",
       "      <td>...</td>\n",
       "      <td>...</td>\n",
       "      <td>...</td>\n",
       "      <td>...</td>\n",
       "      <td>...</td>\n",
       "      <td>...</td>\n",
       "      <td>...</td>\n",
       "    </tr>\n",
       "    <tr>\n",
       "      <th>886</th>\n",
       "      <td>887</td>\n",
       "      <td>Montvila, Rev. Juozas</td>\n",
       "      <td>2</td>\n",
       "      <td>male</td>\n",
       "      <td>27.0</td>\n",
       "      <td>211536</td>\n",
       "      <td>13.0000</td>\n",
       "      <td>NaN</td>\n",
       "      <td>S</td>\n",
       "      <td>0</td>\n",
       "    </tr>\n",
       "    <tr>\n",
       "      <th>887</th>\n",
       "      <td>888</td>\n",
       "      <td>Graham, Miss. Margaret Edith</td>\n",
       "      <td>1</td>\n",
       "      <td>female</td>\n",
       "      <td>19.0</td>\n",
       "      <td>112053</td>\n",
       "      <td>30.0000</td>\n",
       "      <td>B42</td>\n",
       "      <td>S</td>\n",
       "      <td>1</td>\n",
       "    </tr>\n",
       "    <tr>\n",
       "      <th>888</th>\n",
       "      <td>889</td>\n",
       "      <td>Johnston, Miss. Catherine Helen \"Carrie\"</td>\n",
       "      <td>3</td>\n",
       "      <td>female</td>\n",
       "      <td>NaN</td>\n",
       "      <td>W./C. 6607</td>\n",
       "      <td>23.4500</td>\n",
       "      <td>NaN</td>\n",
       "      <td>S</td>\n",
       "      <td>0</td>\n",
       "    </tr>\n",
       "    <tr>\n",
       "      <th>889</th>\n",
       "      <td>890</td>\n",
       "      <td>Behr, Mr. Karl Howell</td>\n",
       "      <td>1</td>\n",
       "      <td>male</td>\n",
       "      <td>26.0</td>\n",
       "      <td>111369</td>\n",
       "      <td>30.0000</td>\n",
       "      <td>C148</td>\n",
       "      <td>C</td>\n",
       "      <td>1</td>\n",
       "    </tr>\n",
       "    <tr>\n",
       "      <th>890</th>\n",
       "      <td>891</td>\n",
       "      <td>Dooley, Mr. Patrick</td>\n",
       "      <td>3</td>\n",
       "      <td>male</td>\n",
       "      <td>32.0</td>\n",
       "      <td>370376</td>\n",
       "      <td>7.7500</td>\n",
       "      <td>NaN</td>\n",
       "      <td>Q</td>\n",
       "      <td>0</td>\n",
       "    </tr>\n",
       "  </tbody>\n",
       "</table>\n",
       "<p>891 rows × 10 columns</p>\n",
       "</div>"
      ],
      "text/plain": [
       "     PassengerId                                               Name  Pclass  \\\n",
       "0              1                            Braund, Mr. Owen Harris       3   \n",
       "1              2  Cumings, Mrs. John Bradley (Florence Briggs Th...       1   \n",
       "2              3                             Heikkinen, Miss. Laina       3   \n",
       "3              4       Futrelle, Mrs. Jacques Heath (Lily May Peel)       1   \n",
       "4              5                           Allen, Mr. William Henry       3   \n",
       "..           ...                                                ...     ...   \n",
       "886          887                              Montvila, Rev. Juozas       2   \n",
       "887          888                       Graham, Miss. Margaret Edith       1   \n",
       "888          889           Johnston, Miss. Catherine Helen \"Carrie\"       3   \n",
       "889          890                              Behr, Mr. Karl Howell       1   \n",
       "890          891                                Dooley, Mr. Patrick       3   \n",
       "\n",
       "        Sex   Age            Ticket     Fare Cabin Embarked  Survived  \n",
       "0      male  22.0         A/5 21171   7.2500   NaN        S         0  \n",
       "1    female  38.0          PC 17599  71.2833   C85        C         1  \n",
       "2    female  26.0  STON/O2. 3101282   7.9250   NaN        S         1  \n",
       "3    female  35.0            113803  53.1000  C123        S         1  \n",
       "4      male  35.0            373450   8.0500   NaN        S         0  \n",
       "..      ...   ...               ...      ...   ...      ...       ...  \n",
       "886    male  27.0            211536  13.0000   NaN        S         0  \n",
       "887  female  19.0            112053  30.0000   B42        S         1  \n",
       "888  female   NaN        W./C. 6607  23.4500   NaN        S         0  \n",
       "889    male  26.0            111369  30.0000  C148        C         1  \n",
       "890    male  32.0            370376   7.7500   NaN        Q         0  \n",
       "\n",
       "[891 rows x 10 columns]"
      ]
     },
     "execution_count": 3,
     "metadata": {},
     "output_type": "execute_result"
    }
   ],
   "source": [
    "df = pd.read_csv('titanic.csv')\n",
    "df"
   ]
  },
  {
   "cell_type": "code",
   "execution_count": 4,
   "id": "2b21b910",
   "metadata": {},
   "outputs": [
    {
     "data": {
      "text/plain": [
       "PassengerId      int64\n",
       "Name            object\n",
       "Pclass           int64\n",
       "Sex             object\n",
       "Age            float64\n",
       "Ticket          object\n",
       "Fare           float64\n",
       "Cabin           object\n",
       "Embarked        object\n",
       "Survived         int64\n",
       "dtype: object"
      ]
     },
     "execution_count": 4,
     "metadata": {},
     "output_type": "execute_result"
    }
   ],
   "source": [
    "df.dtypes"
   ]
  },
  {
   "cell_type": "code",
   "execution_count": 5,
   "id": "6068938e",
   "metadata": {},
   "outputs": [
    {
     "data": {
      "text/html": [
       "<div>\n",
       "<style scoped>\n",
       "    .dataframe tbody tr th:only-of-type {\n",
       "        vertical-align: middle;\n",
       "    }\n",
       "\n",
       "    .dataframe tbody tr th {\n",
       "        vertical-align: top;\n",
       "    }\n",
       "\n",
       "    .dataframe thead th {\n",
       "        text-align: right;\n",
       "    }\n",
       "</style>\n",
       "<table border=\"1\" class=\"dataframe\">\n",
       "  <thead>\n",
       "    <tr style=\"text-align: right;\">\n",
       "      <th></th>\n",
       "      <th>PassengerId</th>\n",
       "      <th>Pclass</th>\n",
       "      <th>Age</th>\n",
       "      <th>Fare</th>\n",
       "      <th>Survived</th>\n",
       "    </tr>\n",
       "  </thead>\n",
       "  <tbody>\n",
       "    <tr>\n",
       "      <th>count</th>\n",
       "      <td>891.000000</td>\n",
       "      <td>891.000000</td>\n",
       "      <td>714.000000</td>\n",
       "      <td>891.000000</td>\n",
       "      <td>891.000000</td>\n",
       "    </tr>\n",
       "    <tr>\n",
       "      <th>mean</th>\n",
       "      <td>446.000000</td>\n",
       "      <td>2.308642</td>\n",
       "      <td>29.699118</td>\n",
       "      <td>32.204208</td>\n",
       "      <td>0.383838</td>\n",
       "    </tr>\n",
       "    <tr>\n",
       "      <th>std</th>\n",
       "      <td>257.353842</td>\n",
       "      <td>0.836071</td>\n",
       "      <td>14.526497</td>\n",
       "      <td>49.693429</td>\n",
       "      <td>0.486592</td>\n",
       "    </tr>\n",
       "    <tr>\n",
       "      <th>min</th>\n",
       "      <td>1.000000</td>\n",
       "      <td>1.000000</td>\n",
       "      <td>0.420000</td>\n",
       "      <td>0.000000</td>\n",
       "      <td>0.000000</td>\n",
       "    </tr>\n",
       "    <tr>\n",
       "      <th>25%</th>\n",
       "      <td>223.500000</td>\n",
       "      <td>2.000000</td>\n",
       "      <td>20.125000</td>\n",
       "      <td>7.910400</td>\n",
       "      <td>0.000000</td>\n",
       "    </tr>\n",
       "    <tr>\n",
       "      <th>50%</th>\n",
       "      <td>446.000000</td>\n",
       "      <td>3.000000</td>\n",
       "      <td>28.000000</td>\n",
       "      <td>14.454200</td>\n",
       "      <td>0.000000</td>\n",
       "    </tr>\n",
       "    <tr>\n",
       "      <th>75%</th>\n",
       "      <td>668.500000</td>\n",
       "      <td>3.000000</td>\n",
       "      <td>38.000000</td>\n",
       "      <td>31.000000</td>\n",
       "      <td>1.000000</td>\n",
       "    </tr>\n",
       "    <tr>\n",
       "      <th>max</th>\n",
       "      <td>891.000000</td>\n",
       "      <td>3.000000</td>\n",
       "      <td>80.000000</td>\n",
       "      <td>512.329200</td>\n",
       "      <td>1.000000</td>\n",
       "    </tr>\n",
       "  </tbody>\n",
       "</table>\n",
       "</div>"
      ],
      "text/plain": [
       "       PassengerId      Pclass         Age        Fare    Survived\n",
       "count   891.000000  891.000000  714.000000  891.000000  891.000000\n",
       "mean    446.000000    2.308642   29.699118   32.204208    0.383838\n",
       "std     257.353842    0.836071   14.526497   49.693429    0.486592\n",
       "min       1.000000    1.000000    0.420000    0.000000    0.000000\n",
       "25%     223.500000    2.000000   20.125000    7.910400    0.000000\n",
       "50%     446.000000    3.000000   28.000000   14.454200    0.000000\n",
       "75%     668.500000    3.000000   38.000000   31.000000    1.000000\n",
       "max     891.000000    3.000000   80.000000  512.329200    1.000000"
      ]
     },
     "execution_count": 5,
     "metadata": {},
     "output_type": "execute_result"
    }
   ],
   "source": [
    "df.describe()"
   ]
  },
  {
   "cell_type": "code",
   "execution_count": 6,
   "id": "aa37c295",
   "metadata": {},
   "outputs": [
    {
     "data": {
      "text/plain": [
       "['PassengerId',\n",
       " 'Name',\n",
       " 'Pclass',\n",
       " 'Sex',\n",
       " 'Age',\n",
       " 'Ticket',\n",
       " 'Fare',\n",
       " 'Cabin',\n",
       " 'Embarked',\n",
       " 'Survived']"
      ]
     },
     "execution_count": 6,
     "metadata": {},
     "output_type": "execute_result"
    }
   ],
   "source": [
    "df.columns.to_list()"
   ]
  },
  {
   "cell_type": "code",
   "execution_count": 7,
   "id": "c4eb0e3b",
   "metadata": {},
   "outputs": [
    {
     "data": {
      "text/plain": [
       "PassengerId      0\n",
       "Name             0\n",
       "Pclass           0\n",
       "Sex              0\n",
       "Age            177\n",
       "Ticket           0\n",
       "Fare             0\n",
       "Cabin          687\n",
       "Embarked         2\n",
       "Survived         0\n",
       "dtype: int64"
      ]
     },
     "execution_count": 7,
     "metadata": {},
     "output_type": "execute_result"
    }
   ],
   "source": [
    "df.isnull().sum()"
   ]
  },
  {
   "cell_type": "code",
   "execution_count": 8,
   "id": "a8bf5ec4",
   "metadata": {},
   "outputs": [],
   "source": [
    "df = df.drop(['PassengerId', 'Name', 'Ticket', 'Cabin'], axis=1)"
   ]
  },
  {
   "cell_type": "code",
   "execution_count": 9,
   "id": "e04c687d",
   "metadata": {},
   "outputs": [],
   "source": [
    "df = df.dropna(axis=0)"
   ]
  },
  {
   "cell_type": "code",
   "execution_count": 10,
   "id": "0e81b98f",
   "metadata": {},
   "outputs": [
    {
     "data": {
      "text/html": [
       "<div>\n",
       "<style scoped>\n",
       "    .dataframe tbody tr th:only-of-type {\n",
       "        vertical-align: middle;\n",
       "    }\n",
       "\n",
       "    .dataframe tbody tr th {\n",
       "        vertical-align: top;\n",
       "    }\n",
       "\n",
       "    .dataframe thead th {\n",
       "        text-align: right;\n",
       "    }\n",
       "</style>\n",
       "<table border=\"1\" class=\"dataframe\">\n",
       "  <thead>\n",
       "    <tr style=\"text-align: right;\">\n",
       "      <th></th>\n",
       "      <th>Pclass</th>\n",
       "      <th>Sex</th>\n",
       "      <th>Age</th>\n",
       "      <th>Fare</th>\n",
       "      <th>Embarked</th>\n",
       "      <th>Survived</th>\n",
       "    </tr>\n",
       "  </thead>\n",
       "  <tbody>\n",
       "    <tr>\n",
       "      <th>0</th>\n",
       "      <td>3</td>\n",
       "      <td>male</td>\n",
       "      <td>22.0</td>\n",
       "      <td>7.2500</td>\n",
       "      <td>S</td>\n",
       "      <td>0</td>\n",
       "    </tr>\n",
       "    <tr>\n",
       "      <th>1</th>\n",
       "      <td>1</td>\n",
       "      <td>female</td>\n",
       "      <td>38.0</td>\n",
       "      <td>71.2833</td>\n",
       "      <td>C</td>\n",
       "      <td>1</td>\n",
       "    </tr>\n",
       "    <tr>\n",
       "      <th>2</th>\n",
       "      <td>3</td>\n",
       "      <td>female</td>\n",
       "      <td>26.0</td>\n",
       "      <td>7.9250</td>\n",
       "      <td>S</td>\n",
       "      <td>1</td>\n",
       "    </tr>\n",
       "    <tr>\n",
       "      <th>3</th>\n",
       "      <td>1</td>\n",
       "      <td>female</td>\n",
       "      <td>35.0</td>\n",
       "      <td>53.1000</td>\n",
       "      <td>S</td>\n",
       "      <td>1</td>\n",
       "    </tr>\n",
       "    <tr>\n",
       "      <th>4</th>\n",
       "      <td>3</td>\n",
       "      <td>male</td>\n",
       "      <td>35.0</td>\n",
       "      <td>8.0500</td>\n",
       "      <td>S</td>\n",
       "      <td>0</td>\n",
       "    </tr>\n",
       "    <tr>\n",
       "      <th>...</th>\n",
       "      <td>...</td>\n",
       "      <td>...</td>\n",
       "      <td>...</td>\n",
       "      <td>...</td>\n",
       "      <td>...</td>\n",
       "      <td>...</td>\n",
       "    </tr>\n",
       "    <tr>\n",
       "      <th>885</th>\n",
       "      <td>3</td>\n",
       "      <td>female</td>\n",
       "      <td>39.0</td>\n",
       "      <td>29.1250</td>\n",
       "      <td>Q</td>\n",
       "      <td>0</td>\n",
       "    </tr>\n",
       "    <tr>\n",
       "      <th>886</th>\n",
       "      <td>2</td>\n",
       "      <td>male</td>\n",
       "      <td>27.0</td>\n",
       "      <td>13.0000</td>\n",
       "      <td>S</td>\n",
       "      <td>0</td>\n",
       "    </tr>\n",
       "    <tr>\n",
       "      <th>887</th>\n",
       "      <td>1</td>\n",
       "      <td>female</td>\n",
       "      <td>19.0</td>\n",
       "      <td>30.0000</td>\n",
       "      <td>S</td>\n",
       "      <td>1</td>\n",
       "    </tr>\n",
       "    <tr>\n",
       "      <th>889</th>\n",
       "      <td>1</td>\n",
       "      <td>male</td>\n",
       "      <td>26.0</td>\n",
       "      <td>30.0000</td>\n",
       "      <td>C</td>\n",
       "      <td>1</td>\n",
       "    </tr>\n",
       "    <tr>\n",
       "      <th>890</th>\n",
       "      <td>3</td>\n",
       "      <td>male</td>\n",
       "      <td>32.0</td>\n",
       "      <td>7.7500</td>\n",
       "      <td>Q</td>\n",
       "      <td>0</td>\n",
       "    </tr>\n",
       "  </tbody>\n",
       "</table>\n",
       "<p>712 rows × 6 columns</p>\n",
       "</div>"
      ],
      "text/plain": [
       "     Pclass     Sex   Age     Fare Embarked  Survived\n",
       "0         3    male  22.0   7.2500        S         0\n",
       "1         1  female  38.0  71.2833        C         1\n",
       "2         3  female  26.0   7.9250        S         1\n",
       "3         1  female  35.0  53.1000        S         1\n",
       "4         3    male  35.0   8.0500        S         0\n",
       "..      ...     ...   ...      ...      ...       ...\n",
       "885       3  female  39.0  29.1250        Q         0\n",
       "886       2    male  27.0  13.0000        S         0\n",
       "887       1  female  19.0  30.0000        S         1\n",
       "889       1    male  26.0  30.0000        C         1\n",
       "890       3    male  32.0   7.7500        Q         0\n",
       "\n",
       "[712 rows x 6 columns]"
      ]
     },
     "execution_count": 10,
     "metadata": {},
     "output_type": "execute_result"
    }
   ],
   "source": [
    "df"
   ]
  },
  {
   "cell_type": "code",
   "execution_count": 11,
   "id": "2416d63d",
   "metadata": {},
   "outputs": [],
   "source": [
    "some_features = ['Pclass', 'Age', 'Fare']"
   ]
  },
  {
   "cell_type": "code",
   "execution_count": 12,
   "id": "aab20fb8",
   "metadata": {},
   "outputs": [
    {
     "data": {
      "image/png": "[encoded data removed]",
      "text/plain": [
       "<Figure size 432x288 with 1 Axes>"
      ]
     },
     "metadata": {
      "needs_background": "light"
     },
     "output_type": "display_data"
    },
    {
     "data": {
      "image/png": "[encoded data removed]",
      "text/plain": [
       "<Figure size 432x288 with 1 Axes>"
      ]
     },
     "metadata": {
      "needs_background": "light"
     },
     "output_type": "display_data"
    },
    {
     "data": {
      "image/png": "[encoded data removed]",
      "text/plain": [
       "<Figure size 432x288 with 1 Axes>"
      ]
     },
     "metadata": {
      "needs_background": "light"
     },
     "output_type": "display_data"
    }
   ],
   "source": [
    "# '''\n",
    "for feature in some_features:\n",
    "    df[f'{feature}'].plot.hist()\n",
    "    plt.xlabel(f'{feature}')\n",
    "    plt.ylabel('frequency')\n",
    "    plt.show()\n",
    "# '''"
   ]
  },
  {
   "cell_type": "code",
   "execution_count": 13,
   "id": "521b1988",
   "metadata": {},
   "outputs": [
    {
     "data": {
      "text/plain": [
       "count      712\n",
       "unique       2\n",
       "top       male\n",
       "freq       453\n",
       "Name: Sex, dtype: object"
      ]
     },
     "execution_count": 13,
     "metadata": {},
     "output_type": "execute_result"
    }
   ],
   "source": [
    "df.Sex.describe()"
   ]
  },
  {
   "cell_type": "code",
   "execution_count": 14,
   "id": "d83bda42",
   "metadata": {},
   "outputs": [
    {
     "data": {
      "text/plain": [
       "count    712.000000\n",
       "mean      34.567251\n",
       "std       52.938648\n",
       "min        0.000000\n",
       "25%        8.050000\n",
       "50%       15.645850\n",
       "75%       33.000000\n",
       "max      512.329200\n",
       "Name: Fare, dtype: float64"
      ]
     },
     "execution_count": 14,
     "metadata": {},
     "output_type": "execute_result"
    }
   ],
   "source": [
    " df.Fare.describe()"
   ]
  },
  {
   "cell_type": "code",
   "execution_count": 15,
   "id": "8e003582",
   "metadata": {},
   "outputs": [],
   "source": [
    "def plotGraph(colName):\n",
    "    Dict = df[colName].value_counts().to_dict()\n",
    "    ClassKeys = list(map(str, list(Dict.keys())))\n",
    "    ClassValues = list(Dict.values())\n",
    "    plt.bar(ClassKeys, ClassValues)\n",
    "    plt.xlabel(str(colName))\n",
    "    plt.ylabel('Number of Passengers')\n",
    "    plt.show()"
   ]
  },
  {
   "cell_type": "code",
   "execution_count": 16,
   "id": "c6cdf3f7",
   "metadata": {},
   "outputs": [
    {
     "data": {
      "image/png": "[encoded data removed]",
      "text/plain": [
       "<Figure size 432x288 with 1 Axes>"
      ]
     },
     "metadata": {
      "needs_background": "light"
     },
     "output_type": "display_data"
    }
   ],
   "source": [
    "plotGraph('Pclass')"
   ]
  },
  {
   "cell_type": "code",
   "execution_count": 17,
   "id": "a729bd02",
   "metadata": {},
   "outputs": [
    {
     "data": {
      "image/png": "[encoded data removed]",
      "text/plain": [
       "<Figure size 432x288 with 1 Axes>"
      ]
     },
     "metadata": {
      "needs_background": "light"
     },
     "output_type": "display_data"
    }
   ],
   "source": [
    "plotGraph('Sex')"
   ]
  },
  {
   "cell_type": "code",
   "execution_count": 18,
   "id": "5799d539",
   "metadata": {},
   "outputs": [
    {
     "data": {
      "image/png": "[encoded data removed]",
      "text/plain": [
       "<Figure size 432x288 with 1 Axes>"
      ]
     },
     "metadata": {
      "needs_background": "light"
     },
     "output_type": "display_data"
    }
   ],
   "source": [
    "plotGraph('Embarked')"
   ]
  },
  {
   "cell_type": "code",
   "execution_count": 19,
   "id": "368182e6",
   "metadata": {},
   "outputs": [],
   "source": [
    "df['Pclass'] = df['Pclass'].astype('category')"
   ]
  },
  {
   "cell_type": "code",
   "execution_count": 20,
   "id": "fe3ca0ee",
   "metadata": {},
   "outputs": [],
   "source": [
    "classesToBeEncoded = ['Embarked', 'Sex']\n",
    "for c in classesToBeEncoded:\n",
    "    df[c] = df[c].astype('category')\n",
    "    df[c] = df[c].cat.codes"
   ]
  },
  {
   "cell_type": "code",
   "execution_count": 21,
   "id": "416d0a5f",
   "metadata": {},
   "outputs": [
    {
     "data": {
      "text/html": [
       "<div>\n",
       "<style scoped>\n",
       "    .dataframe tbody tr th:only-of-type {\n",
       "        vertical-align: middle;\n",
       "    }\n",
       "\n",
       "    .dataframe tbody tr th {\n",
       "        vertical-align: top;\n",
       "    }\n",
       "\n",
       "    .dataframe thead th {\n",
       "        text-align: right;\n",
       "    }\n",
       "</style>\n",
       "<table border=\"1\" class=\"dataframe\">\n",
       "  <thead>\n",
       "    <tr style=\"text-align: right;\">\n",
       "      <th></th>\n",
       "      <th>Pclass</th>\n",
       "      <th>Sex</th>\n",
       "      <th>Age</th>\n",
       "      <th>Fare</th>\n",
       "      <th>Embarked</th>\n",
       "      <th>Survived</th>\n",
       "    </tr>\n",
       "  </thead>\n",
       "  <tbody>\n",
       "    <tr>\n",
       "      <th>0</th>\n",
       "      <td>3</td>\n",
       "      <td>1</td>\n",
       "      <td>22.0</td>\n",
       "      <td>7.2500</td>\n",
       "      <td>2</td>\n",
       "      <td>0</td>\n",
       "    </tr>\n",
       "    <tr>\n",
       "      <th>1</th>\n",
       "      <td>1</td>\n",
       "      <td>0</td>\n",
       "      <td>38.0</td>\n",
       "      <td>71.2833</td>\n",
       "      <td>0</td>\n",
       "      <td>1</td>\n",
       "    </tr>\n",
       "    <tr>\n",
       "      <th>2</th>\n",
       "      <td>3</td>\n",
       "      <td>0</td>\n",
       "      <td>26.0</td>\n",
       "      <td>7.9250</td>\n",
       "      <td>2</td>\n",
       "      <td>1</td>\n",
       "    </tr>\n",
       "    <tr>\n",
       "      <th>3</th>\n",
       "      <td>1</td>\n",
       "      <td>0</td>\n",
       "      <td>35.0</td>\n",
       "      <td>53.1000</td>\n",
       "      <td>2</td>\n",
       "      <td>1</td>\n",
       "    </tr>\n",
       "    <tr>\n",
       "      <th>4</th>\n",
       "      <td>3</td>\n",
       "      <td>1</td>\n",
       "      <td>35.0</td>\n",
       "      <td>8.0500</td>\n",
       "      <td>2</td>\n",
       "      <td>0</td>\n",
       "    </tr>\n",
       "    <tr>\n",
       "      <th>...</th>\n",
       "      <td>...</td>\n",
       "      <td>...</td>\n",
       "      <td>...</td>\n",
       "      <td>...</td>\n",
       "      <td>...</td>\n",
       "      <td>...</td>\n",
       "    </tr>\n",
       "    <tr>\n",
       "      <th>885</th>\n",
       "      <td>3</td>\n",
       "      <td>0</td>\n",
       "      <td>39.0</td>\n",
       "      <td>29.1250</td>\n",
       "      <td>1</td>\n",
       "      <td>0</td>\n",
       "    </tr>\n",
       "    <tr>\n",
       "      <th>886</th>\n",
       "      <td>2</td>\n",
       "      <td>1</td>\n",
       "      <td>27.0</td>\n",
       "      <td>13.0000</td>\n",
       "      <td>2</td>\n",
       "      <td>0</td>\n",
       "    </tr>\n",
       "    <tr>\n",
       "      <th>887</th>\n",
       "      <td>1</td>\n",
       "      <td>0</td>\n",
       "      <td>19.0</td>\n",
       "      <td>30.0000</td>\n",
       "      <td>2</td>\n",
       "      <td>1</td>\n",
       "    </tr>\n",
       "    <tr>\n",
       "      <th>889</th>\n",
       "      <td>1</td>\n",
       "      <td>1</td>\n",
       "      <td>26.0</td>\n",
       "      <td>30.0000</td>\n",
       "      <td>0</td>\n",
       "      <td>1</td>\n",
       "    </tr>\n",
       "    <tr>\n",
       "      <th>890</th>\n",
       "      <td>3</td>\n",
       "      <td>1</td>\n",
       "      <td>32.0</td>\n",
       "      <td>7.7500</td>\n",
       "      <td>1</td>\n",
       "      <td>0</td>\n",
       "    </tr>\n",
       "  </tbody>\n",
       "</table>\n",
       "<p>712 rows × 6 columns</p>\n",
       "</div>"
      ],
      "text/plain": [
       "    Pclass  Sex   Age     Fare  Embarked  Survived\n",
       "0        3    1  22.0   7.2500         2         0\n",
       "1        1    0  38.0  71.2833         0         1\n",
       "2        3    0  26.0   7.9250         2         1\n",
       "3        1    0  35.0  53.1000         2         1\n",
       "4        3    1  35.0   8.0500         2         0\n",
       "..     ...  ...   ...      ...       ...       ...\n",
       "885      3    0  39.0  29.1250         1         0\n",
       "886      2    1  27.0  13.0000         2         0\n",
       "887      1    0  19.0  30.0000         2         1\n",
       "889      1    1  26.0  30.0000         0         1\n",
       "890      3    1  32.0   7.7500         1         0\n",
       "\n",
       "[712 rows x 6 columns]"
      ]
     },
     "execution_count": 21,
     "metadata": {},
     "output_type": "execute_result"
    }
   ],
   "source": [
    "df"
   ]
  },
  {
   "cell_type": "code",
   "execution_count": 22,
   "id": "afffe823",
   "metadata": {},
   "outputs": [
    {
     "data": {
      "text/plain": [
       "['Pclass', 'Sex', 'Age', 'Fare', 'Embarked', 'Survived']"
      ]
     },
     "execution_count": 22,
     "metadata": {},
     "output_type": "execute_result"
    }
   ],
   "source": [
    "df.columns.to_list()"
   ]
  },
  {
   "cell_type": "code",
   "execution_count": 23,
   "id": "3cc17026",
   "metadata": {},
   "outputs": [],
   "source": [
    "features = ['Pclass', 'Sex', 'Age', 'Fare', 'Embarked']"
   ]
  },
  {
   "cell_type": "code",
   "execution_count": 24,
   "id": "7d00a011",
   "metadata": {},
   "outputs": [
    {
     "data": {
      "image/png": "[encoded data removed]",
      "text/plain": [
       "<Figure size 432x288 with 1 Axes>"
      ]
     },
     "metadata": {
      "needs_background": "light"
     },
     "output_type": "display_data"
    },
    {
     "data": {
      "image/png": "[encoded data removed]",
      "text/plain": [
       "<Figure size 432x288 with 1 Axes>"
      ]
     },
     "metadata": {
      "needs_background": "light"
     },
     "output_type": "display_data"
    }
   ],
   "source": [
    "continuous_features = ['Age', 'Fare']\n",
    "for feature in continuous_features:\n",
    "    sns.distplot(df[feature])\n",
    "    plt.show()"
   ]
  },
  {
   "cell_type": "code",
   "execution_count": 25,
   "id": "2cae0308",
   "metadata": {},
   "outputs": [],
   "source": [
    "X = df[features]\n",
    "y = df.Survived"
   ]
  },
  {
   "cell_type": "code",
   "execution_count": 26,
   "id": "73c5dc5e",
   "metadata": {},
   "outputs": [],
   "source": [
    "train_X, test_X, train_y, test_y = train_test_split(X, y, test_size=0.3, random_state=0)"
   ]
  },
  {
   "cell_type": "markdown",
   "id": "6d1b3184",
   "metadata": {},
   "source": [
    "### (3) Implement the identified variant of Naive Bayes Classifier using scikit learn, report its performance based on appropriate metrics (ROC AUC etc.)."
   ]
  },
  {
   "cell_type": "code",
   "execution_count": 27,
   "id": "90f85cad",
   "metadata": {},
   "outputs": [],
   "source": [
    "clf = GaussianNB()"
   ]
  },
  {
   "cell_type": "code",
   "execution_count": 28,
   "id": "15dce3e5",
   "metadata": {},
   "outputs": [
    {
     "data": {
      "text/html": [
       "<style>#sk-container-id-1 {color: black;background-color: white;}#sk-container-id-1 pre{padding: 0;}#sk-container-id-1 div.sk-toggleable {background-color: white;}#sk-container-id-1 label.sk-toggleable__label {cursor: pointer;display: block;width: 100%;margin-bottom: 0;padding: 0.3em;box-sizing: border-box;text-align: center;}#sk-container-id-1 label.sk-toggleable__label-arrow:before {content: \"▸\";float: left;margin-right: 0.25em;color: #696969;}#sk-container-id-1 label.sk-toggleable__label-arrow:hover:before {color: black;}#sk-container-id-1 div.sk-estimator:hover label.sk-toggleable__label-arrow:before {color: black;}#sk-container-id-1 div.sk-toggleable__content {max-height: 0;max-width: 0;overflow: hidden;text-align: left;background-color: #f0f8ff;}#sk-container-id-1 div.sk-toggleable__content pre {margin: 0.2em;color: black;border-radius: 0.25em;background-color: #f0f8ff;}#sk-container-id-1 input.sk-toggleable__control:checked~div.sk-toggleable__content {max-height: 200px;max-width: 100%;overflow: auto;}#sk-container-id-1 input.sk-toggleable__control:checked~label.sk-toggleable__label-arrow:before {content: \"▾\";}#sk-container-id-1 div.sk-estimator input.sk-toggleable__control:checked~label.sk-toggleable__label {background-color: #d4ebff;}#sk-container-id-1 div.sk-label input.sk-toggleable__control:checked~label.sk-toggleable__label {background-color: #d4ebff;}#sk-container-id-1 input.sk-hidden--visually {border: 0;clip: rect(1px 1px 1px 1px);clip: rect(1px, 1px, 1px, 1px);height: 1px;margin: -1px;overflow: hidden;padding: 0;position: absolute;width: 1px;}#sk-container-id-1 div.sk-estimator {font-family: monospace;background-color: #f0f8ff;border: 1px dotted black;border-radius: 0.25em;box-sizing: border-box;margin-bottom: 0.5em;}#sk-container-id-1 div.sk-estimator:hover {background-color: #d4ebff;}#sk-container-id-1 div.sk-parallel-item::after {content: \"\";width: 100%;border-bottom: 1px solid gray;flex-grow: 1;}#sk-container-id-1 div.sk-label:hover label.sk-toggleable__label {background-color: #d4ebff;}#sk-container-id-1 div.sk-serial::before {content: \"\";position: absolute;border-left: 1px solid gray;box-sizing: border-box;top: 0;bottom: 0;left: 50%;z-index: 0;}#sk-container-id-1 div.sk-serial {display: flex;flex-direction: column;align-items: center;background-color: white;padding-right: 0.2em;padding-left: 0.2em;position: relative;}#sk-container-id-1 div.sk-item {position: relative;z-index: 1;}#sk-container-id-1 div.sk-parallel {display: flex;align-items: stretch;justify-content: center;background-color: white;position: relative;}#sk-container-id-1 div.sk-item::before, #sk-container-id-1 div.sk-parallel-item::before {content: \"\";position: absolute;border-left: 1px solid gray;box-sizing: border-box;top: 0;bottom: 0;left: 50%;z-index: -1;}#sk-container-id-1 div.sk-parallel-item {display: flex;flex-direction: column;z-index: 1;position: relative;background-color: white;}#sk-container-id-1 div.sk-parallel-item:first-child::after {align-self: flex-end;width: 50%;}#sk-container-id-1 div.sk-parallel-item:last-child::after {align-self: flex-start;width: 50%;}#sk-container-id-1 div.sk-parallel-item:only-child::after {width: 0;}#sk-container-id-1 div.sk-dashed-wrapped {border: 1px dashed gray;margin: 0 0.4em 0.5em 0.4em;box-sizing: border-box;padding-bottom: 0.4em;background-color: white;}#sk-container-id-1 div.sk-label label {font-family: monospace;font-weight: bold;display: inline-block;line-height: 1.2em;}#sk-container-id-1 div.sk-label-container {text-align: center;}#sk-container-id-1 div.sk-container {/* jupyter's `normalize.less` sets `[hidden] { display: none; }` but bootstrap.min.css set `[hidden] { display: none !important; }` so we also need the `!important` here to be able to override the default hidden behavior on the sphinx rendered scikit-learn.org. See: https://github.com/scikit-learn/scikit-learn/issues/21755 */display: inline-block !important;position: relative;}#sk-container-id-1 div.sk-text-repr-fallback {display: none;}</style><div id=\"sk-container-id-1\" class=\"sk-top-container\"><div class=\"sk-text-repr-fallback\"><pre>GaussianNB()</pre><b>In a Jupyter environment, please rerun this cell to show the HTML representation or trust the notebook. <br />On GitHub, the HTML representation is unable to render, please try loading this page with nbviewer.org.</b></div><div class=\"sk-container\" hidden><div class=\"sk-item\"><div class=\"sk-estimator sk-toggleable\"><input class=\"sk-toggleable__control sk-hidden--visually\" id=\"sk-estimator-id-1\" type=\"checkbox\" checked><label for=\"sk-estimator-id-1\" class=\"sk-toggleable__label sk-toggleable__label-arrow\">GaussianNB</label><div class=\"sk-toggleable__content\"><pre>GaussianNB()</pre></div></div></div></div></div>"
      ],
      "text/plain": [
       "GaussianNB()"
      ]
     },
     "execution_count": 28,
     "metadata": {},
     "output_type": "execute_result"
    }
   ],
   "source": [
    "clf.fit(train_X, train_y)"
   ]
  },
  {
   "cell_type": "code",
   "execution_count": 29,
   "id": "c158689d",
   "metadata": {},
   "outputs": [
    {
     "data": {
      "text/html": [
       "<div>\n",
       "<style scoped>\n",
       "    .dataframe tbody tr th:only-of-type {\n",
       "        vertical-align: middle;\n",
       "    }\n",
       "\n",
       "    .dataframe tbody tr th {\n",
       "        vertical-align: top;\n",
       "    }\n",
       "\n",
       "    .dataframe thead th {\n",
       "        text-align: right;\n",
       "    }\n",
       "</style>\n",
       "<table border=\"1\" class=\"dataframe\">\n",
       "  <thead>\n",
       "    <tr style=\"text-align: right;\">\n",
       "      <th></th>\n",
       "      <th>Pclass</th>\n",
       "      <th>Sex</th>\n",
       "      <th>Age</th>\n",
       "      <th>Fare</th>\n",
       "      <th>Embarked</th>\n",
       "      <th>Survived</th>\n",
       "    </tr>\n",
       "  </thead>\n",
       "  <tbody>\n",
       "    <tr>\n",
       "      <th>0</th>\n",
       "      <td>3</td>\n",
       "      <td>1</td>\n",
       "      <td>22.0</td>\n",
       "      <td>7.2500</td>\n",
       "      <td>2</td>\n",
       "      <td>0</td>\n",
       "    </tr>\n",
       "    <tr>\n",
       "      <th>1</th>\n",
       "      <td>1</td>\n",
       "      <td>0</td>\n",
       "      <td>38.0</td>\n",
       "      <td>71.2833</td>\n",
       "      <td>0</td>\n",
       "      <td>1</td>\n",
       "    </tr>\n",
       "    <tr>\n",
       "      <th>2</th>\n",
       "      <td>3</td>\n",
       "      <td>0</td>\n",
       "      <td>26.0</td>\n",
       "      <td>7.9250</td>\n",
       "      <td>2</td>\n",
       "      <td>1</td>\n",
       "    </tr>\n",
       "    <tr>\n",
       "      <th>3</th>\n",
       "      <td>1</td>\n",
       "      <td>0</td>\n",
       "      <td>35.0</td>\n",
       "      <td>53.1000</td>\n",
       "      <td>2</td>\n",
       "      <td>1</td>\n",
       "    </tr>\n",
       "    <tr>\n",
       "      <th>4</th>\n",
       "      <td>3</td>\n",
       "      <td>1</td>\n",
       "      <td>35.0</td>\n",
       "      <td>8.0500</td>\n",
       "      <td>2</td>\n",
       "      <td>0</td>\n",
       "    </tr>\n",
       "    <tr>\n",
       "      <th>...</th>\n",
       "      <td>...</td>\n",
       "      <td>...</td>\n",
       "      <td>...</td>\n",
       "      <td>...</td>\n",
       "      <td>...</td>\n",
       "      <td>...</td>\n",
       "    </tr>\n",
       "    <tr>\n",
       "      <th>885</th>\n",
       "      <td>3</td>\n",
       "      <td>0</td>\n",
       "      <td>39.0</td>\n",
       "      <td>29.1250</td>\n",
       "      <td>1</td>\n",
       "      <td>0</td>\n",
       "    </tr>\n",
       "    <tr>\n",
       "      <th>886</th>\n",
       "      <td>2</td>\n",
       "      <td>1</td>\n",
       "      <td>27.0</td>\n",
       "      <td>13.0000</td>\n",
       "      <td>2</td>\n",
       "      <td>0</td>\n",
       "    </tr>\n",
       "    <tr>\n",
       "      <th>887</th>\n",
       "      <td>1</td>\n",
       "      <td>0</td>\n",
       "      <td>19.0</td>\n",
       "      <td>30.0000</td>\n",
       "      <td>2</td>\n",
       "      <td>1</td>\n",
       "    </tr>\n",
       "    <tr>\n",
       "      <th>889</th>\n",
       "      <td>1</td>\n",
       "      <td>1</td>\n",
       "      <td>26.0</td>\n",
       "      <td>30.0000</td>\n",
       "      <td>0</td>\n",
       "      <td>1</td>\n",
       "    </tr>\n",
       "    <tr>\n",
       "      <th>890</th>\n",
       "      <td>3</td>\n",
       "      <td>1</td>\n",
       "      <td>32.0</td>\n",
       "      <td>7.7500</td>\n",
       "      <td>1</td>\n",
       "      <td>0</td>\n",
       "    </tr>\n",
       "  </tbody>\n",
       "</table>\n",
       "<p>712 rows × 6 columns</p>\n",
       "</div>"
      ],
      "text/plain": [
       "    Pclass  Sex   Age     Fare  Embarked  Survived\n",
       "0        3    1  22.0   7.2500         2         0\n",
       "1        1    0  38.0  71.2833         0         1\n",
       "2        3    0  26.0   7.9250         2         1\n",
       "3        1    0  35.0  53.1000         2         1\n",
       "4        3    1  35.0   8.0500         2         0\n",
       "..     ...  ...   ...      ...       ...       ...\n",
       "885      3    0  39.0  29.1250         1         0\n",
       "886      2    1  27.0  13.0000         2         0\n",
       "887      1    0  19.0  30.0000         2         1\n",
       "889      1    1  26.0  30.0000         0         1\n",
       "890      3    1  32.0   7.7500         1         0\n",
       "\n",
       "[712 rows x 6 columns]"
      ]
     },
     "execution_count": 29,
     "metadata": {},
     "output_type": "execute_result"
    }
   ],
   "source": [
    "df"
   ]
  },
  {
   "cell_type": "code",
   "execution_count": 30,
   "id": "57331b77",
   "metadata": {},
   "outputs": [],
   "source": [
    "pred_y = clf.predict(test_X)"
   ]
  },
  {
   "cell_type": "code",
   "execution_count": 31,
   "id": "b74c426f",
   "metadata": {},
   "outputs": [
    {
     "data": {
      "text/plain": [
       "0.7426067415730336"
      ]
     },
     "execution_count": 31,
     "metadata": {},
     "output_type": "execute_result"
    }
   ],
   "source": [
    "roc_auc_score(test_y, pred_y)"
   ]
  },
  {
   "cell_type": "code",
   "execution_count": 32,
   "id": "50813df1",
   "metadata": {},
   "outputs": [
    {
     "data": {
      "image/png": "[encoded data removed]",
      "text/plain": [
       "<Figure size 432x288 with 1 Axes>"
      ]
     },
     "metadata": {
      "needs_background": "light"
     },
     "output_type": "display_data"
    }
   ],
   "source": [
    "plot_roc_curve(clf, test_X, test_y)\n",
    "plt.show()"
   ]
  },
  {
   "cell_type": "markdown",
   "id": "864f9f31",
   "metadata": {},
   "source": [
    "### (4) Perform 5 fold cross validation and summarize the results across the cross-validation sets. Compute the probability of the top class for each row in the testing dataset."
   ]
  },
  {
   "cell_type": "code",
   "execution_count": 33,
   "id": "80887a06",
   "metadata": {},
   "outputs": [
    {
     "name": "stdout",
     "output_type": "stream",
     "text": [
      "[0.87       0.74       0.77       0.73737374 0.7979798 ]\n",
      "0.783070707070707\n"
     ]
    }
   ],
   "source": [
    "kf = KFold(n_splits=5)\n",
    "cv_score = cross_val_score(clf, train_X, train_y, cv=kf)\n",
    "print(cv_score)\n",
    "print(cv_score.mean())"
   ]
  },
  {
   "cell_type": "code",
   "execution_count": 34,
   "id": "7981db8a",
   "metadata": {},
   "outputs": [
    {
     "data": {
      "text/plain": [
       "array([[5.46603148e-01, 4.53396852e-01],\n",
       "       [9.52814019e-01, 4.71859807e-02],\n",
       "       [4.50482646e-04, 9.99549517e-01],\n",
       "       [7.57678925e-01, 2.42321075e-01],\n",
       "       [9.83165897e-01, 1.68341031e-02],\n",
       "       [9.82109496e-01, 1.78905043e-02],\n",
       "       [3.13055726e-01, 6.86944274e-01],\n",
       "       [2.27876963e-01, 7.72123037e-01],\n",
       "       [8.38935659e-01, 1.61064341e-01],\n",
       "       [1.28530231e-01, 8.71469769e-01],\n",
       "       [7.04590106e-03, 9.92954099e-01],\n",
       "       [5.32513165e-01, 4.67486835e-01],\n",
       "       [8.33805063e-03, 9.91661949e-01],\n",
       "       [9.78256839e-01, 2.17431611e-02],\n",
       "       [9.47449741e-01, 5.25502587e-02],\n",
       "       [3.56002560e-01, 6.43997440e-01],\n",
       "       [9.51812132e-01, 4.81878684e-02],\n",
       "       [1.03596455e-01, 8.96403545e-01],\n",
       "       [8.30133887e-01, 1.69866113e-01],\n",
       "       [9.56339123e-01, 4.36608771e-02],\n",
       "       [5.84354554e-01, 4.15645446e-01],\n",
       "       [3.38081467e-01, 6.61918533e-01],\n",
       "       [4.86116890e-02, 9.51388311e-01],\n",
       "       [9.24542365e-01, 7.54576353e-02],\n",
       "       [8.13124312e-01, 1.86875688e-01],\n",
       "       [8.31388523e-01, 1.68611477e-01],\n",
       "       [9.54551587e-01, 4.54484126e-02],\n",
       "       [8.81651608e-01, 1.18348392e-01],\n",
       "       [7.00373826e-01, 2.99626174e-01],\n",
       "       [5.68490138e-01, 4.31509862e-01],\n",
       "       [1.03798189e-12, 1.00000000e+00],\n",
       "       [9.70937647e-01, 2.90623525e-02],\n",
       "       [9.78761270e-01, 2.12387296e-02],\n",
       "       [5.18860203e-01, 4.81139797e-01],\n",
       "       [2.86601944e-01, 7.13398056e-01],\n",
       "       [3.03810200e-01, 6.96189800e-01],\n",
       "       [3.93614382e-03, 9.96063856e-01],\n",
       "       [8.23292911e-01, 1.76707089e-01],\n",
       "       [8.34247829e-01, 1.65752171e-01],\n",
       "       [3.50756914e-01, 6.49243086e-01],\n",
       "       [9.45801531e-01, 5.41984691e-02],\n",
       "       [9.81165317e-01, 1.88346835e-02],\n",
       "       [9.82408045e-01, 1.75919546e-02],\n",
       "       [9.81602628e-01, 1.83973719e-02],\n",
       "       [9.80517571e-01, 1.94824288e-02],\n",
       "       [9.77944681e-01, 2.20553188e-02],\n",
       "       [7.86773378e-02, 9.21322662e-01],\n",
       "       [7.98337641e-01, 2.01662359e-01],\n",
       "       [9.80092292e-01, 1.99077082e-02],\n",
       "       [1.18896928e-09, 9.99999999e-01],\n",
       "       [2.93888841e-01, 7.06111159e-01],\n",
       "       [5.24839534e-01, 4.75160466e-01],\n",
       "       [5.42401722e-01, 4.57598278e-01],\n",
       "       [9.52297485e-01, 4.77025147e-02],\n",
       "       [3.53064890e-01, 6.46935110e-01],\n",
       "       [5.29693581e-01, 4.70306419e-01],\n",
       "       [9.81847561e-01, 1.81524392e-02],\n",
       "       [9.79838683e-01, 2.01613173e-02],\n",
       "       [1.36460702e-02, 9.86353930e-01],\n",
       "       [7.35533593e-01, 2.64466407e-01],\n",
       "       [4.28126779e-01, 5.71873221e-01],\n",
       "       [9.83426698e-01, 1.65733024e-02],\n",
       "       [8.65162650e-01, 1.34837350e-01],\n",
       "       [9.72810117e-01, 2.71898834e-02],\n",
       "       [9.49538428e-01, 5.04615716e-02],\n",
       "       [5.64476540e-01, 4.35523460e-01],\n",
       "       [1.37669497e-05, 9.99986233e-01],\n",
       "       [7.42117485e-01, 2.57882515e-01],\n",
       "       [1.06541425e-05, 9.99989346e-01],\n",
       "       [3.23915796e-01, 6.76084204e-01],\n",
       "       [9.52814019e-01, 4.71859807e-02],\n",
       "       [8.20787129e-03, 9.91792129e-01],\n",
       "       [2.87144911e-01, 7.12855089e-01],\n",
       "       [3.17658397e-01, 6.82341603e-01],\n",
       "       [9.82838579e-01, 1.71614211e-02],\n",
       "       [8.15423472e-01, 1.84576528e-01],\n",
       "       [9.27524911e-01, 7.24750895e-02],\n",
       "       [5.03037862e-01, 4.96962138e-01],\n",
       "       [9.80738181e-01, 1.92618192e-02],\n",
       "       [9.49029409e-01, 5.09705913e-02],\n",
       "       [8.14300766e-01, 1.85699234e-01],\n",
       "       [2.15453558e-03, 9.97845464e-01],\n",
       "       [9.78554015e-01, 2.14459847e-02],\n",
       "       [3.16835440e-01, 6.83164560e-01],\n",
       "       [1.07304030e-01, 8.92695970e-01],\n",
       "       [9.80765348e-01, 1.92346521e-02],\n",
       "       [9.82256599e-01, 1.77434013e-02],\n",
       "       [9.51307313e-01, 4.86926870e-02],\n",
       "       [1.21653562e-01, 8.78346438e-01],\n",
       "       [9.78715222e-01, 2.12847780e-02],\n",
       "       [9.83786704e-01, 1.62132964e-02],\n",
       "       [9.81991709e-01, 1.80082912e-02],\n",
       "       [8.02267544e-01, 1.97732456e-01],\n",
       "       [5.47021414e-02, 9.45297859e-01],\n",
       "       [1.29391784e-01, 8.70608216e-01],\n",
       "       [9.80533489e-01, 1.94665110e-02],\n",
       "       [4.80732233e-03, 9.95192678e-01],\n",
       "       [2.88192994e-03, 9.97118070e-01],\n",
       "       [9.80090949e-01, 1.99090510e-02],\n",
       "       [9.57222711e-01, 4.27772895e-02],\n",
       "       [9.63608919e-01, 3.63910813e-02],\n",
       "       [1.09479456e-01, 8.90520544e-01],\n",
       "       [9.54551587e-01, 4.54484126e-02],\n",
       "       [8.39707503e-01, 1.60292497e-01],\n",
       "       [6.74684625e-01, 3.25315375e-01],\n",
       "       [9.78302360e-01, 2.16976396e-02],\n",
       "       [2.34744847e-01, 7.65255153e-01],\n",
       "       [9.49632959e-01, 5.03670408e-02],\n",
       "       [8.39023382e-01, 1.60976618e-01],\n",
       "       [9.33975170e-01, 6.60248297e-02],\n",
       "       [9.78814050e-01, 2.11859502e-02],\n",
       "       [5.10167105e-01, 4.89832895e-01],\n",
       "       [3.13738842e-01, 6.86261158e-01],\n",
       "       [5.53079850e-01, 4.46920150e-01],\n",
       "       [9.80533977e-01, 1.94660229e-02],\n",
       "       [9.52814019e-01, 4.71859807e-02],\n",
       "       [9.54551587e-01, 4.54484126e-02],\n",
       "       [9.83205566e-01, 1.67944335e-02],\n",
       "       [9.52887614e-01, 4.71123859e-02],\n",
       "       [5.59820974e-01, 4.40179026e-01],\n",
       "       [9.78212845e-01, 2.17871547e-02],\n",
       "       [9.78569528e-01, 2.14304724e-02],\n",
       "       [9.53211618e-01, 4.67883824e-02],\n",
       "       [1.18951429e-01, 8.81048571e-01],\n",
       "       [4.39851012e-01, 5.60148988e-01],\n",
       "       [9.83332194e-01, 1.66678056e-02],\n",
       "       [9.54972060e-01, 4.50279403e-02],\n",
       "       [9.51460123e-01, 4.85398767e-02],\n",
       "       [1.34469719e-01, 8.65530281e-01],\n",
       "       [1.52701259e-02, 9.84729874e-01],\n",
       "       [9.81340451e-01, 1.86595492e-02],\n",
       "       [3.48323638e-01, 6.51676362e-01],\n",
       "       [2.17038469e-01, 7.82961531e-01],\n",
       "       [4.60412247e-01, 5.39587753e-01],\n",
       "       [2.95895189e-01, 7.04104811e-01],\n",
       "       [2.16093278e-04, 9.99783907e-01],\n",
       "       [5.35543424e-01, 4.64456576e-01],\n",
       "       [9.83653585e-01, 1.63464150e-02],\n",
       "       [9.70433230e-01, 2.95667696e-02],\n",
       "       [9.66539600e-01, 3.34604001e-02],\n",
       "       [4.76435012e-01, 5.23564988e-01],\n",
       "       [9.82374628e-01, 1.76253718e-02],\n",
       "       [1.23720375e-01, 8.76279625e-01],\n",
       "       [7.27285744e-01, 2.72714256e-01],\n",
       "       [5.85492597e-04, 9.99414507e-01],\n",
       "       [9.53291675e-01, 4.67083250e-02],\n",
       "       [9.80941250e-01, 1.90587502e-02],\n",
       "       [9.78235384e-01, 2.17646162e-02],\n",
       "       [9.55828079e-01, 4.41719212e-02],\n",
       "       [9.79085044e-01, 2.09149556e-02],\n",
       "       [9.81705483e-01, 1.82945166e-02],\n",
       "       [9.80433979e-01, 1.95660207e-02],\n",
       "       [5.28447610e-01, 4.71552390e-01],\n",
       "       [1.20838696e-13, 1.00000000e+00],\n",
       "       [4.43932186e-01, 5.56067814e-01],\n",
       "       [8.72055180e-01, 1.27944820e-01],\n",
       "       [9.78813320e-01, 2.11866803e-02],\n",
       "       [7.41689037e-01, 2.58310963e-01],\n",
       "       [9.90762480e-10, 9.99999999e-01],\n",
       "       [5.05744734e-01, 4.94255266e-01],\n",
       "       [2.95979964e-15, 1.00000000e+00],\n",
       "       [9.77946514e-01, 2.20534861e-02],\n",
       "       [4.53548577e-02, 9.54645142e-01],\n",
       "       [8.29830667e-01, 1.70169333e-01],\n",
       "       [9.83566924e-01, 1.64330758e-02],\n",
       "       [9.83003560e-01, 1.69964401e-02],\n",
       "       [7.16055225e-01, 2.83944775e-01],\n",
       "       [9.72862954e-01, 2.71370456e-02],\n",
       "       [4.73247165e-01, 5.26752835e-01],\n",
       "       [8.27042623e-01, 1.72957377e-01],\n",
       "       [3.48323638e-01, 6.51676362e-01],\n",
       "       [5.15287383e-01, 4.84712617e-01],\n",
       "       [8.33268536e-03, 9.91667315e-01],\n",
       "       [9.79838683e-01, 2.01613173e-02],\n",
       "       [5.62955455e-01, 4.37044545e-01],\n",
       "       [5.38285783e-01, 4.61714217e-01],\n",
       "       [1.49044347e-05, 9.99985096e-01],\n",
       "       [9.79554781e-01, 2.04452191e-02],\n",
       "       [9.77537571e-01, 2.24624285e-02],\n",
       "       [9.50237339e-01, 4.97626615e-02],\n",
       "       [8.85844048e-01, 1.14155952e-01],\n",
       "       [7.31797419e-01, 2.68202581e-01],\n",
       "       [9.79763484e-01, 2.02365156e-02],\n",
       "       [8.13817076e-01, 1.86182924e-01],\n",
       "       [4.35888552e-01, 5.64111448e-01],\n",
       "       [1.34032250e-09, 9.99999999e-01],\n",
       "       [9.77342649e-01, 2.26573515e-02],\n",
       "       [9.77772322e-01, 2.22276779e-02],\n",
       "       [3.88144920e-01, 6.11855080e-01],\n",
       "       [2.98449228e-01, 7.01550772e-01],\n",
       "       [1.85205989e-01, 8.14794011e-01],\n",
       "       [5.46117750e-01, 4.53882250e-01],\n",
       "       [3.71900549e-01, 6.28099451e-01],\n",
       "       [8.73653066e-01, 1.26346934e-01],\n",
       "       [1.53012061e-05, 9.99984699e-01],\n",
       "       [3.82345500e-01, 6.17654500e-01],\n",
       "       [8.65134281e-03, 9.91348657e-01],\n",
       "       [9.51314649e-01, 4.86853514e-02],\n",
       "       [6.14846373e-02, 9.38515363e-01],\n",
       "       [3.16170804e-04, 9.99683829e-01],\n",
       "       [9.81137591e-01, 1.88624089e-02],\n",
       "       [5.32892823e-06, 9.99994671e-01],\n",
       "       [9.83525792e-01, 1.64742085e-02],\n",
       "       [5.15097940e-01, 4.84902060e-01],\n",
       "       [9.57996103e-01, 4.20038975e-02],\n",
       "       [9.57996103e-01, 4.20038975e-02],\n",
       "       [5.46524070e-01, 4.53475930e-01],\n",
       "       [4.00414397e-01, 5.99585603e-01],\n",
       "       [9.81157053e-01, 1.88429470e-02],\n",
       "       [9.77981256e-01, 2.20187441e-02],\n",
       "       [2.07195336e-05, 9.99979280e-01],\n",
       "       [7.17174688e-01, 2.82825312e-01],\n",
       "       [2.89240658e-01, 7.10759342e-01],\n",
       "       [5.76143437e-01, 4.23856563e-01]])"
      ]
     },
     "execution_count": 34,
     "metadata": {},
     "output_type": "execute_result"
    }
   ],
   "source": [
    "clf.predict_proba(test_X)"
   ]
  },
  {
   "cell_type": "code",
   "execution_count": 35,
   "id": "c96a6de4",
   "metadata": {},
   "outputs": [],
   "source": [
    "class_probabilities = clf.predict_proba(test_X)"
   ]
  },
  {
   "cell_type": "code",
   "execution_count": 36,
   "id": "83e74495",
   "metadata": {},
   "outputs": [],
   "source": [
    "top_class_probability = []\n",
    "\n",
    "for each in range(len(class_probabilities)):\n",
    "    top_class_probability.append(max(class_probabilities[each]))"
   ]
  },
  {
   "cell_type": "code",
   "execution_count": 37,
   "id": "40860ce4",
   "metadata": {},
   "outputs": [
    {
     "data": {
      "text/plain": [
       "[0.5466031483016004,\n",
       " 0.9528140193459189,\n",
       " 0.9995495173541707,\n",
       " 0.7576789253375182,\n",
       " 0.9831658969150052,\n",
       " 0.982109495743981,\n",
       " 0.6869442735961713,\n",
       " 0.7721230365039489,\n",
       " 0.8389356585787686,\n",
       " 0.8714697685234987,\n",
       " 0.9929540989395649,\n",
       " 0.5325131647491042,\n",
       " 0.9916619493683918,\n",
       " 0.9782568389391727,\n",
       " 0.9474497412564871,\n",
       " 0.6439974395981071,\n",
       " 0.951812131645688,\n",
       " 0.8964035450286227,\n",
       " 0.8301338866542736,\n",
       " 0.9563391229181128,\n",
       " 0.5843545536356536,\n",
       " 0.6619185334981159,\n",
       " 0.9513883110488659,\n",
       " 0.924542364685715,\n",
       " 0.8131243123718628,\n",
       " 0.8313885229062024,\n",
       " 0.9545515874173931,\n",
       " 0.8816516081579997,\n",
       " 0.700373825887538,\n",
       " 0.5684901377221602,\n",
       " 0.9999999999989626,\n",
       " 0.9709376474837212,\n",
       " 0.9787612703789964,\n",
       " 0.5188602026978869,\n",
       " 0.7133980564646619,\n",
       " 0.696189800390312,\n",
       " 0.9960638561824852,\n",
       " 0.823292910872687,\n",
       " 0.8342478288434209,\n",
       " 0.6492430858484413,\n",
       " 0.9458015309112713,\n",
       " 0.9811653165139145,\n",
       " 0.982408045425348,\n",
       " 0.9816026281150058,\n",
       " 0.9805175712417254,\n",
       " 0.9779446812434404,\n",
       " 0.9213226621608831,\n",
       " 0.7983376408511985,\n",
       " 0.980092291842314,\n",
       " 0.9999999988110311,\n",
       " 0.7061111588009937,\n",
       " 0.5248395339527889,\n",
       " 0.5424017223662952,\n",
       " 0.9522974852571398,\n",
       " 0.6469351095791206,\n",
       " 0.5296935806917963,\n",
       " 0.9818475608275526,\n",
       " 0.9798386826840902,\n",
       " 0.9863539297528333,\n",
       " 0.7355335934548356,\n",
       " 0.5718732211994316,\n",
       " 0.9834266976336137,\n",
       " 0.8651626498150161,\n",
       " 0.9728101166402866,\n",
       " 0.9495384284156819,\n",
       " 0.5644765396578957,\n",
       " 0.9999862330503417,\n",
       " 0.7421174848776406,\n",
       " 0.9999893458574695,\n",
       " 0.6760842037422542,\n",
       " 0.9528140193459189,\n",
       " 0.9917921287058856,\n",
       " 0.7128550885939698,\n",
       " 0.6823416034844368,\n",
       " 0.9828385789271473,\n",
       " 0.8154234723023817,\n",
       " 0.9275249105293468,\n",
       " 0.5030378621533329,\n",
       " 0.9807381807842056,\n",
       " 0.9490294087165723,\n",
       " 0.8143007662746081,\n",
       " 0.997845464424791,\n",
       " 0.9785540152986967,\n",
       " 0.6831645595543722,\n",
       " 0.8926959698842974,\n",
       " 0.9807653478876939,\n",
       " 0.9822565986599989,\n",
       " 0.9513073130197983,\n",
       " 0.8783464380685133,\n",
       " 0.9787152219904126,\n",
       " 0.9837867035799059,\n",
       " 0.9819917088286299,\n",
       " 0.8022675443995044,\n",
       " 0.9452978585868492,\n",
       " 0.8706082159106185,\n",
       " 0.9805334889901106,\n",
       " 0.9951926776728997,\n",
       " 0.9971180700566588,\n",
       " 0.9800909489888923,\n",
       " 0.9572227105248557,\n",
       " 0.9636089187096485,\n",
       " 0.8905205443330598,\n",
       " 0.9545515874173931,\n",
       " 0.8397075026305507,\n",
       " 0.6746846245262768,\n",
       " 0.9783023603896972,\n",
       " 0.7652551528144452,\n",
       " 0.949632959182704,\n",
       " 0.8390233820495963,\n",
       " 0.9339751702802098,\n",
       " 0.9788140497820602,\n",
       " 0.5101671051185421,\n",
       " 0.686261157820691,\n",
       " 0.5530798502506766,\n",
       " 0.9805339771150056,\n",
       " 0.9528140193459189,\n",
       " 0.9545515874173931,\n",
       " 0.9832055664726488,\n",
       " 0.952887614144811,\n",
       " 0.5598209738336042,\n",
       " 0.978212845266742,\n",
       " 0.978569527569868,\n",
       " 0.9532116176459327,\n",
       " 0.8810485707222828,\n",
       " 0.5601489876061928,\n",
       " 0.9833321943852074,\n",
       " 0.9549720596849121,\n",
       " 0.9514601232906713,\n",
       " 0.8655302807795757,\n",
       " 0.9847298741004931,\n",
       " 0.9813404507815813,\n",
       " 0.6516763620426754,\n",
       " 0.7829615309311247,\n",
       " 0.5395877525342935,\n",
       " 0.7041048110775607,\n",
       " 0.9997839067215221,\n",
       " 0.5355434235192659,\n",
       " 0.9836535849875736,\n",
       " 0.9704332303891959,\n",
       " 0.9665395998907533,\n",
       " 0.5235649881611646,\n",
       " 0.982374628172525,\n",
       " 0.8762796249492802,\n",
       " 0.7272857439339234,\n",
       " 0.9994145074026611,\n",
       " 0.953291675044457,\n",
       " 0.9809412498012345,\n",
       " 0.9782353838107309,\n",
       " 0.9558280788130502,\n",
       " 0.9790850443981647,\n",
       " 0.9817054834279765,\n",
       " 0.9804339793487568,\n",
       " 0.5284476099861182,\n",
       " 0.9999999999998792,\n",
       " 0.5560678137830009,\n",
       " 0.8720551795856406,\n",
       " 0.9788133197175377,\n",
       " 0.7416890365815396,\n",
       " 0.999999999009237,\n",
       " 0.505744733943893,\n",
       " 0.9999999999999964,\n",
       " 0.9779465138615369,\n",
       " 0.9546451423481485,\n",
       " 0.8298306674013854,\n",
       " 0.9835669241594871,\n",
       " 0.9830035598730251,\n",
       " 0.7160552247525972,\n",
       " 0.9728629544402524,\n",
       " 0.5267528349463779,\n",
       " 0.8270426226862755,\n",
       " 0.6516763620426754,\n",
       " 0.5152873825623232,\n",
       " 0.9916673146407757,\n",
       " 0.9798386826840902,\n",
       " 0.5629554554141828,\n",
       " 0.5382857826438215,\n",
       " 0.999985095565327,\n",
       " 0.9795547808780376,\n",
       " 0.9775375714698319,\n",
       " 0.9502373385014015,\n",
       " 0.885844048295782,\n",
       " 0.7317974194894118,\n",
       " 0.979763484404907,\n",
       " 0.8138170763404365,\n",
       " 0.5641114484541796,\n",
       " 0.9999999986596784,\n",
       " 0.9773426485319344,\n",
       " 0.9777723221144331,\n",
       " 0.6118550797632863,\n",
       " 0.7015507720182443,\n",
       " 0.814794011143902,\n",
       " 0.5461177502769362,\n",
       " 0.6280994507043177,\n",
       " 0.8736530664205732,\n",
       " 0.9999846987939015,\n",
       " 0.6176544995056107,\n",
       " 0.9913486571938482,\n",
       " 0.9513146485965135,\n",
       " 0.9385153627455711,\n",
       " 0.9996838291955195,\n",
       " 0.9811375911102785,\n",
       " 0.9999946710717701,\n",
       " 0.9835257915441324,\n",
       " 0.5150979404175483,\n",
       " 0.9579961025310446,\n",
       " 0.9579961025310446,\n",
       " 0.5465240701523373,\n",
       " 0.5995856030272945,\n",
       " 0.9811570530161299,\n",
       " 0.9779812558763593,\n",
       " 0.9999792804664118,\n",
       " 0.7171746883708184,\n",
       " 0.7107593415561052,\n",
       " 0.5761434370176878]"
      ]
     },
     "execution_count": 37,
     "metadata": {},
     "output_type": "execute_result"
    }
   ],
   "source": [
    "top_class_probability"
   ]
  },
  {
   "cell_type": "markdown",
   "id": "397b2093",
   "metadata": {},
   "source": [
    "### (5) Make contour plots with the data points to visualize the class-conditional densities. "
   ]
  },
  {
   "cell_type": "code",
   "execution_count": 38,
   "id": "a08aa089",
   "metadata": {},
   "outputs": [
    {
     "data": {
      "image/png": "[encoded data removed]",
      "text/plain": [
       "<Figure size 1440x720 with 1 Axes>"
      ]
     },
     "metadata": {
      "needs_background": "light"
     },
     "output_type": "display_data"
    },
    {
     "data": {
      "image/png": "[encoded data removed]",
      "text/plain": [
       "<Figure size 1440x720 with 1 Axes>"
      ]
     },
     "metadata": {
      "needs_background": "light"
     },
     "output_type": "display_data"
    }
   ],
   "source": [
    "for feature in ['Age', 'Fare']:\n",
    "    plt.figure(figsize=(20,10))\n",
    "    sns.kdeplot(x=df[feature], y=df['Survived'], cmap=\"Reds\", shade=True)\n",
    "    plt.scatter(x=df[feature], y=df['Survived'])\n",
    "    plt.show()"
   ]
  },
  {
   "cell_type": "markdown",
   "id": "022ecbac",
   "metadata": {},
   "source": [
    "### (6) Compare your model with the Decision Tree classifier on the same dataset by performing 5-fold cross-validation and summarizing the results."
   ]
  },
  {
   "cell_type": "code",
   "execution_count": 39,
   "id": "a6196fcc",
   "metadata": {},
   "outputs": [],
   "source": [
    "def kfold_cv(train_X, train_y, test_X, test_y, depth=None, split=2, leaf=1):\n",
    "    dt_clf = DecisionTreeClassifier(random_state=0, max_depth=depth, min_samples_split=split, min_samples_leaf=leaf)\n",
    "    kf = KFold(n_splits=5)\n",
    "    cv_score = cross_val_score(dt_clf, train_X, train_y, cv=kf)\n",
    "    print(cv_score)\n",
    "    print(cv_score.mean())\n",
    "    \n",
    "    dt_clf.fit(train_X, train_y)\n",
    "    plot_roc_curve(dt_clf, test_X, test_y)"
   ]
  },
  {
   "cell_type": "code",
   "execution_count": 40,
   "id": "fd5eaad9",
   "metadata": {},
   "outputs": [
    {
     "name": "stdout",
     "output_type": "stream",
     "text": [
      "[0.79       0.79       0.76       0.80808081 0.73737374]\n",
      "0.777090909090909\n"
     ]
    },
    {
     "data": {
      "image/png": "[encoded data removed]",
      "text/plain": [
       "<Figure size 432x288 with 1 Axes>"
      ]
     },
     "metadata": {
      "needs_background": "light"
     },
     "output_type": "display_data"
    }
   ],
   "source": [
    "kfold_cv(train_X, train_y, test_X, test_y)"
   ]
  },
  {
   "cell_type": "code",
   "execution_count": 41,
   "id": "20214fd1",
   "metadata": {},
   "outputs": [
    {
     "data": {
      "image/png": "[encoded data removed]",
      "text/plain": [
       "<Figure size 432x288 with 1 Axes>"
      ]
     },
     "metadata": {
      "needs_background": "light"
     },
     "output_type": "display_data"
    },
    {
     "data": {
      "image/png": "[encoded data removed]",
      "text/plain": [
       "<Figure size 432x288 with 1 Axes>"
      ]
     },
     "metadata": {
      "needs_background": "light"
     },
     "output_type": "display_data"
    }
   ],
   "source": [
    "dt_clf = DecisionTreeClassifier(random_state=0)\n",
    "dt_clf.fit(train_X, train_y)\n",
    "\n",
    "plot_roc_curve(dt_clf, test_X, test_y)\n",
    "plot_roc_curve(clf, test_X, test_y)\n",
    "plt.show()"
   ]
  },
  {
   "cell_type": "markdown",
   "id": "ebb51b54",
   "metadata": {},
   "source": [
    "---\n",
    "# Q2\n",
    "---"
   ]
  },
  {
   "cell_type": "code",
   "execution_count": 42,
   "id": "174c5e9c",
   "metadata": {},
   "outputs": [],
   "source": [
    "import numpy as np\n",
    "import pandas as pd\n",
    "import matplotlib.pyplot as plt\n",
    "import seaborn as sns"
   ]
  },
  {
   "cell_type": "code",
   "execution_count": 43,
   "id": "19e3d00e",
   "metadata": {
    "scrolled": true
   },
   "outputs": [
    {
     "data": {
      "text/html": [
       "<div>\n",
       "<style scoped>\n",
       "    .dataframe tbody tr th:only-of-type {\n",
       "        vertical-align: middle;\n",
       "    }\n",
       "\n",
       "    .dataframe tbody tr th {\n",
       "        vertical-align: top;\n",
       "    }\n",
       "\n",
       "    .dataframe thead th {\n",
       "        text-align: right;\n",
       "    }\n",
       "</style>\n",
       "<table border=\"1\" class=\"dataframe\">\n",
       "  <thead>\n",
       "    <tr style=\"text-align: right;\">\n",
       "      <th></th>\n",
       "      <th>X0</th>\n",
       "      <th>X1</th>\n",
       "      <th>X2</th>\n",
       "      <th>X3</th>\n",
       "      <th>X4</th>\n",
       "      <th>X5</th>\n",
       "      <th>X6</th>\n",
       "      <th>Y</th>\n",
       "    </tr>\n",
       "  </thead>\n",
       "  <tbody>\n",
       "    <tr>\n",
       "      <th>0</th>\n",
       "      <td>15.26</td>\n",
       "      <td>14.84</td>\n",
       "      <td>0.8710</td>\n",
       "      <td>5.763</td>\n",
       "      <td>3.312</td>\n",
       "      <td>2.221</td>\n",
       "      <td>5.220</td>\n",
       "      <td>1</td>\n",
       "    </tr>\n",
       "    <tr>\n",
       "      <th>1</th>\n",
       "      <td>14.88</td>\n",
       "      <td>14.57</td>\n",
       "      <td>0.8811</td>\n",
       "      <td>5.554</td>\n",
       "      <td>3.333</td>\n",
       "      <td>1.018</td>\n",
       "      <td>4.956</td>\n",
       "      <td>1</td>\n",
       "    </tr>\n",
       "    <tr>\n",
       "      <th>2</th>\n",
       "      <td>14.29</td>\n",
       "      <td>14.09</td>\n",
       "      <td>0.9050</td>\n",
       "      <td>5.291</td>\n",
       "      <td>3.337</td>\n",
       "      <td>2.699</td>\n",
       "      <td>4.825</td>\n",
       "      <td>1</td>\n",
       "    </tr>\n",
       "    <tr>\n",
       "      <th>3</th>\n",
       "      <td>13.84</td>\n",
       "      <td>13.94</td>\n",
       "      <td>0.8955</td>\n",
       "      <td>5.324</td>\n",
       "      <td>3.379</td>\n",
       "      <td>2.259</td>\n",
       "      <td>4.805</td>\n",
       "      <td>1</td>\n",
       "    </tr>\n",
       "    <tr>\n",
       "      <th>4</th>\n",
       "      <td>16.14</td>\n",
       "      <td>14.99</td>\n",
       "      <td>0.9034</td>\n",
       "      <td>5.658</td>\n",
       "      <td>3.562</td>\n",
       "      <td>1.355</td>\n",
       "      <td>5.175</td>\n",
       "      <td>1</td>\n",
       "    </tr>\n",
       "    <tr>\n",
       "      <th>...</th>\n",
       "      <td>...</td>\n",
       "      <td>...</td>\n",
       "      <td>...</td>\n",
       "      <td>...</td>\n",
       "      <td>...</td>\n",
       "      <td>...</td>\n",
       "      <td>...</td>\n",
       "      <td>...</td>\n",
       "    </tr>\n",
       "    <tr>\n",
       "      <th>205</th>\n",
       "      <td>12.19</td>\n",
       "      <td>13.20</td>\n",
       "      <td>0.8783</td>\n",
       "      <td>5.137</td>\n",
       "      <td>2.981</td>\n",
       "      <td>3.631</td>\n",
       "      <td>4.870</td>\n",
       "      <td>3</td>\n",
       "    </tr>\n",
       "    <tr>\n",
       "      <th>206</th>\n",
       "      <td>11.23</td>\n",
       "      <td>12.88</td>\n",
       "      <td>0.8511</td>\n",
       "      <td>5.140</td>\n",
       "      <td>2.795</td>\n",
       "      <td>4.325</td>\n",
       "      <td>5.003</td>\n",
       "      <td>3</td>\n",
       "    </tr>\n",
       "    <tr>\n",
       "      <th>207</th>\n",
       "      <td>13.20</td>\n",
       "      <td>13.66</td>\n",
       "      <td>0.8883</td>\n",
       "      <td>5.236</td>\n",
       "      <td>3.232</td>\n",
       "      <td>8.315</td>\n",
       "      <td>5.056</td>\n",
       "      <td>3</td>\n",
       "    </tr>\n",
       "    <tr>\n",
       "      <th>208</th>\n",
       "      <td>11.84</td>\n",
       "      <td>13.21</td>\n",
       "      <td>0.8521</td>\n",
       "      <td>5.175</td>\n",
       "      <td>2.836</td>\n",
       "      <td>3.598</td>\n",
       "      <td>5.044</td>\n",
       "      <td>3</td>\n",
       "    </tr>\n",
       "    <tr>\n",
       "      <th>209</th>\n",
       "      <td>12.30</td>\n",
       "      <td>13.34</td>\n",
       "      <td>0.8684</td>\n",
       "      <td>5.243</td>\n",
       "      <td>2.974</td>\n",
       "      <td>5.637</td>\n",
       "      <td>5.063</td>\n",
       "      <td>3</td>\n",
       "    </tr>\n",
       "  </tbody>\n",
       "</table>\n",
       "<p>210 rows × 8 columns</p>\n",
       "</div>"
      ],
      "text/plain": [
       "        X0     X1      X2     X3     X4     X5     X6  Y\n",
       "0    15.26  14.84  0.8710  5.763  3.312  2.221  5.220  1\n",
       "1    14.88  14.57  0.8811  5.554  3.333  1.018  4.956  1\n",
       "2    14.29  14.09  0.9050  5.291  3.337  2.699  4.825  1\n",
       "3    13.84  13.94  0.8955  5.324  3.379  2.259  4.805  1\n",
       "4    16.14  14.99  0.9034  5.658  3.562  1.355  5.175  1\n",
       "..     ...    ...     ...    ...    ...    ...    ... ..\n",
       "205  12.19  13.20  0.8783  5.137  2.981  3.631  4.870  3\n",
       "206  11.23  12.88  0.8511  5.140  2.795  4.325  5.003  3\n",
       "207  13.20  13.66  0.8883  5.236  3.232  8.315  5.056  3\n",
       "208  11.84  13.21  0.8521  5.175  2.836  3.598  5.044  3\n",
       "209  12.30  13.34  0.8684  5.243  2.974  5.637  5.063  3\n",
       "\n",
       "[210 rows x 8 columns]"
      ]
     },
     "execution_count": 43,
     "metadata": {},
     "output_type": "execute_result"
    }
   ],
   "source": [
    "df = pd.read_csv('dataset.csv')\n",
    "df"
   ]
  },
  {
   "cell_type": "markdown",
   "id": "45c4d5d8",
   "metadata": {},
   "source": [
    "**Features**:-  \n",
    "X0 = Area  \n",
    "X1 = Perimeter  \n",
    "X2 = Compactness  \n",
    "X3 = Length of kernel  \n",
    "X4 = Width of kernel  \n",
    "X5 = Asymmetry coefficient  \n",
    "X6 = Length of kernel groove  \n",
    "X7 =  Class (1, 2, 3)  "
   ]
  },
  {
   "cell_type": "markdown",
   "id": "f81bba14",
   "metadata": {},
   "source": [
    "### (a) Use histogram to plot the distribution of samples."
   ]
  },
  {
   "cell_type": "code",
   "execution_count": 44,
   "id": "abd4c345",
   "metadata": {},
   "outputs": [
    {
     "data": {
      "image/png": "[encoded data removed]",
      "text/plain": [
       "<Figure size 1440x1440 with 9 Axes>"
      ]
     },
     "metadata": {
      "needs_background": "light"
     },
     "output_type": "display_data"
    }
   ],
   "source": [
    "df.hist(figsize=(20,20))\n",
    "plt.show()"
   ]
  },
  {
   "cell_type": "markdown",
   "id": "d514e924",
   "metadata": {},
   "source": [
    "### (b) Determine the prior probability for all the classes."
   ]
  },
  {
   "cell_type": "code",
   "execution_count": 45,
   "id": "3c773492",
   "metadata": {},
   "outputs": [
    {
     "data": {
      "text/plain": [
       "array([1, 2, 3], dtype=int64)"
      ]
     },
     "execution_count": 45,
     "metadata": {},
     "output_type": "execute_result"
    }
   ],
   "source": [
    "df['Y'].unique()"
   ]
  },
  {
   "cell_type": "markdown",
   "id": "eb07f518",
   "metadata": {},
   "source": [
    "Hence, total unique classes are 3."
   ]
  },
  {
   "cell_type": "code",
   "execution_count": 46,
   "id": "e011ec7a",
   "metadata": {},
   "outputs": [],
   "source": [
    "def prior(Class):\n",
    "    return len(df[df['Y']==Class])/len(df)"
   ]
  },
  {
   "cell_type": "code",
   "execution_count": 47,
   "id": "ebefae75",
   "metadata": {},
   "outputs": [],
   "source": [
    "prior1 = prior(1)\n",
    "prior2 = prior(2)\n",
    "prior3 = prior(3)"
   ]
  },
  {
   "cell_type": "code",
   "execution_count": 48,
   "id": "70b75f6a",
   "metadata": {},
   "outputs": [
    {
     "name": "stdout",
     "output_type": "stream",
     "text": [
      "prior(ω1) = 0.3333333333333333 \n",
      "prior(ω2) = 0.3333333333333333 \n",
      "prior(ω3) = 0.3333333333333333\n"
     ]
    }
   ],
   "source": [
    "print('prior(ω1) =', prior1, '\\nprior(ω2) =', prior2, '\\nprior(ω3) =',prior3)"
   ]
  },
  {
   "cell_type": "code",
   "execution_count": 49,
   "id": "db607a46",
   "metadata": {},
   "outputs": [
    {
     "data": {
      "text/plain": [
       "1.0"
      ]
     },
     "execution_count": 49,
     "metadata": {},
     "output_type": "execute_result"
    }
   ],
   "source": [
    "prior1 + prior2 + prior3"
   ]
  },
  {
   "cell_type": "markdown",
   "id": "60dd0642",
   "metadata": {},
   "source": [
    "### (c) Discretize the features into bins from scratch."
   ]
  },
  {
   "cell_type": "code",
   "execution_count": 50,
   "id": "b7c1ea77",
   "metadata": {},
   "outputs": [],
   "source": [
    "def binning_using_difference(df, feature_name, diff):\n",
    "    min_element = df[feature_name].min()\n",
    "    max_element = df[feature_name].max()\n",
    "    \n",
    "    list_of_lists_of_indices = []\n",
    "    list_of_bin_names = []\n",
    "    \n",
    "    num = round(int(min_element/diff)*diff, 2)\n",
    "    \n",
    "    while(max_element - num > 0):\n",
    "        df_needed = df[feature_name]\n",
    "        df_needed = df_needed[df_needed >= num]\n",
    "        df_needed = df_needed[df_needed < num + diff]\n",
    "        list_of_indices = list(df_needed.index)\n",
    "        \n",
    "        list_of_lists_of_indices.append(list_of_indices)\n",
    "        list_of_bin_names.append(f'{num:.2f}-{(num+diff):.2f}')\n",
    "        \n",
    "        num += diff\n",
    "\n",
    "    df[f'bin-{feature_name}'] = 0\n",
    "        \n",
    "    for l in range(len(list_of_lists_of_indices)):\n",
    "        corresponding_name = list_of_bin_names[l]\n",
    "        if len(list_of_lists_of_indices[l]) > 0:\n",
    "            for ind in list_of_lists_of_indices[l]:\n",
    "                df[f'bin-{feature_name}'][ind] = corresponding_name\n",
    "            \n",
    "    return df"
   ]
  },
  {
   "cell_type": "code",
   "execution_count": 51,
   "id": "8812449c",
   "metadata": {},
   "outputs": [],
   "source": [
    "features = ['X0', 'X1', 'X2', 'X3', 'X4', 'X5', 'X6']\n",
    "diff_for_features = [2, 1, 0.02, 0.25, 0.2, 1, 0.25]"
   ]
  },
  {
   "cell_type": "code",
   "execution_count": 52,
   "id": "7cd212ae",
   "metadata": {},
   "outputs": [],
   "source": [
    "for i in range(len(features)):\n",
    "    df = binning_using_difference(df, features[i], diff_for_features[i])"
   ]
  },
  {
   "cell_type": "code",
   "execution_count": 53,
   "id": "72bb7041",
   "metadata": {},
   "outputs": [
    {
     "data": {
      "text/html": [
       "<div>\n",
       "<style scoped>\n",
       "    .dataframe tbody tr th:only-of-type {\n",
       "        vertical-align: middle;\n",
       "    }\n",
       "\n",
       "    .dataframe tbody tr th {\n",
       "        vertical-align: top;\n",
       "    }\n",
       "\n",
       "    .dataframe thead th {\n",
       "        text-align: right;\n",
       "    }\n",
       "</style>\n",
       "<table border=\"1\" class=\"dataframe\">\n",
       "  <thead>\n",
       "    <tr style=\"text-align: right;\">\n",
       "      <th></th>\n",
       "      <th>X0</th>\n",
       "      <th>X1</th>\n",
       "      <th>X2</th>\n",
       "      <th>X3</th>\n",
       "      <th>X4</th>\n",
       "      <th>X5</th>\n",
       "      <th>X6</th>\n",
       "      <th>Y</th>\n",
       "      <th>bin-X0</th>\n",
       "      <th>bin-X1</th>\n",
       "      <th>bin-X2</th>\n",
       "      <th>bin-X3</th>\n",
       "      <th>bin-X4</th>\n",
       "      <th>bin-X5</th>\n",
       "      <th>bin-X6</th>\n",
       "    </tr>\n",
       "  </thead>\n",
       "  <tbody>\n",
       "    <tr>\n",
       "      <th>0</th>\n",
       "      <td>15.26</td>\n",
       "      <td>14.84</td>\n",
       "      <td>0.8710</td>\n",
       "      <td>5.763</td>\n",
       "      <td>3.312</td>\n",
       "      <td>2.221</td>\n",
       "      <td>5.220</td>\n",
       "      <td>1</td>\n",
       "      <td>14.00-16.00</td>\n",
       "      <td>14.00-15.00</td>\n",
       "      <td>0.86-0.88</td>\n",
       "      <td>5.75-6.00</td>\n",
       "      <td>3.20-3.40</td>\n",
       "      <td>2.00-3.00</td>\n",
       "      <td>5.00-5.25</td>\n",
       "    </tr>\n",
       "    <tr>\n",
       "      <th>1</th>\n",
       "      <td>14.88</td>\n",
       "      <td>14.57</td>\n",
       "      <td>0.8811</td>\n",
       "      <td>5.554</td>\n",
       "      <td>3.333</td>\n",
       "      <td>1.018</td>\n",
       "      <td>4.956</td>\n",
       "      <td>1</td>\n",
       "      <td>14.00-16.00</td>\n",
       "      <td>14.00-15.00</td>\n",
       "      <td>0.88-0.90</td>\n",
       "      <td>5.50-5.75</td>\n",
       "      <td>3.20-3.40</td>\n",
       "      <td>1.00-2.00</td>\n",
       "      <td>4.75-5.00</td>\n",
       "    </tr>\n",
       "    <tr>\n",
       "      <th>2</th>\n",
       "      <td>14.29</td>\n",
       "      <td>14.09</td>\n",
       "      <td>0.9050</td>\n",
       "      <td>5.291</td>\n",
       "      <td>3.337</td>\n",
       "      <td>2.699</td>\n",
       "      <td>4.825</td>\n",
       "      <td>1</td>\n",
       "      <td>14.00-16.00</td>\n",
       "      <td>14.00-15.00</td>\n",
       "      <td>0.90-0.92</td>\n",
       "      <td>5.25-5.50</td>\n",
       "      <td>3.20-3.40</td>\n",
       "      <td>2.00-3.00</td>\n",
       "      <td>4.75-5.00</td>\n",
       "    </tr>\n",
       "    <tr>\n",
       "      <th>3</th>\n",
       "      <td>13.84</td>\n",
       "      <td>13.94</td>\n",
       "      <td>0.8955</td>\n",
       "      <td>5.324</td>\n",
       "      <td>3.379</td>\n",
       "      <td>2.259</td>\n",
       "      <td>4.805</td>\n",
       "      <td>1</td>\n",
       "      <td>12.00-14.00</td>\n",
       "      <td>13.00-14.00</td>\n",
       "      <td>0.88-0.90</td>\n",
       "      <td>5.25-5.50</td>\n",
       "      <td>3.20-3.40</td>\n",
       "      <td>2.00-3.00</td>\n",
       "      <td>4.75-5.00</td>\n",
       "    </tr>\n",
       "    <tr>\n",
       "      <th>4</th>\n",
       "      <td>16.14</td>\n",
       "      <td>14.99</td>\n",
       "      <td>0.9034</td>\n",
       "      <td>5.658</td>\n",
       "      <td>3.562</td>\n",
       "      <td>1.355</td>\n",
       "      <td>5.175</td>\n",
       "      <td>1</td>\n",
       "      <td>16.00-18.00</td>\n",
       "      <td>14.00-15.00</td>\n",
       "      <td>0.90-0.92</td>\n",
       "      <td>5.50-5.75</td>\n",
       "      <td>3.40-3.60</td>\n",
       "      <td>1.00-2.00</td>\n",
       "      <td>5.00-5.25</td>\n",
       "    </tr>\n",
       "    <tr>\n",
       "      <th>...</th>\n",
       "      <td>...</td>\n",
       "      <td>...</td>\n",
       "      <td>...</td>\n",
       "      <td>...</td>\n",
       "      <td>...</td>\n",
       "      <td>...</td>\n",
       "      <td>...</td>\n",
       "      <td>...</td>\n",
       "      <td>...</td>\n",
       "      <td>...</td>\n",
       "      <td>...</td>\n",
       "      <td>...</td>\n",
       "      <td>...</td>\n",
       "      <td>...</td>\n",
       "      <td>...</td>\n",
       "    </tr>\n",
       "    <tr>\n",
       "      <th>205</th>\n",
       "      <td>12.19</td>\n",
       "      <td>13.20</td>\n",
       "      <td>0.8783</td>\n",
       "      <td>5.137</td>\n",
       "      <td>2.981</td>\n",
       "      <td>3.631</td>\n",
       "      <td>4.870</td>\n",
       "      <td>3</td>\n",
       "      <td>12.00-14.00</td>\n",
       "      <td>13.00-14.00</td>\n",
       "      <td>0.86-0.88</td>\n",
       "      <td>5.00-5.25</td>\n",
       "      <td>2.80-3.00</td>\n",
       "      <td>3.00-4.00</td>\n",
       "      <td>4.75-5.00</td>\n",
       "    </tr>\n",
       "    <tr>\n",
       "      <th>206</th>\n",
       "      <td>11.23</td>\n",
       "      <td>12.88</td>\n",
       "      <td>0.8511</td>\n",
       "      <td>5.140</td>\n",
       "      <td>2.795</td>\n",
       "      <td>4.325</td>\n",
       "      <td>5.003</td>\n",
       "      <td>3</td>\n",
       "      <td>10.00-12.00</td>\n",
       "      <td>12.00-13.00</td>\n",
       "      <td>0.84-0.86</td>\n",
       "      <td>5.00-5.25</td>\n",
       "      <td>2.60-2.80</td>\n",
       "      <td>4.00-5.00</td>\n",
       "      <td>5.00-5.25</td>\n",
       "    </tr>\n",
       "    <tr>\n",
       "      <th>207</th>\n",
       "      <td>13.20</td>\n",
       "      <td>13.66</td>\n",
       "      <td>0.8883</td>\n",
       "      <td>5.236</td>\n",
       "      <td>3.232</td>\n",
       "      <td>8.315</td>\n",
       "      <td>5.056</td>\n",
       "      <td>3</td>\n",
       "      <td>12.00-14.00</td>\n",
       "      <td>13.00-14.00</td>\n",
       "      <td>0.88-0.90</td>\n",
       "      <td>5.00-5.25</td>\n",
       "      <td>3.20-3.40</td>\n",
       "      <td>8.00-9.00</td>\n",
       "      <td>5.00-5.25</td>\n",
       "    </tr>\n",
       "    <tr>\n",
       "      <th>208</th>\n",
       "      <td>11.84</td>\n",
       "      <td>13.21</td>\n",
       "      <td>0.8521</td>\n",
       "      <td>5.175</td>\n",
       "      <td>2.836</td>\n",
       "      <td>3.598</td>\n",
       "      <td>5.044</td>\n",
       "      <td>3</td>\n",
       "      <td>10.00-12.00</td>\n",
       "      <td>13.00-14.00</td>\n",
       "      <td>0.84-0.86</td>\n",
       "      <td>5.00-5.25</td>\n",
       "      <td>2.80-3.00</td>\n",
       "      <td>3.00-4.00</td>\n",
       "      <td>5.00-5.25</td>\n",
       "    </tr>\n",
       "    <tr>\n",
       "      <th>209</th>\n",
       "      <td>12.30</td>\n",
       "      <td>13.34</td>\n",
       "      <td>0.8684</td>\n",
       "      <td>5.243</td>\n",
       "      <td>2.974</td>\n",
       "      <td>5.637</td>\n",
       "      <td>5.063</td>\n",
       "      <td>3</td>\n",
       "      <td>12.00-14.00</td>\n",
       "      <td>13.00-14.00</td>\n",
       "      <td>0.86-0.88</td>\n",
       "      <td>5.00-5.25</td>\n",
       "      <td>2.80-3.00</td>\n",
       "      <td>5.00-6.00</td>\n",
       "      <td>5.00-5.25</td>\n",
       "    </tr>\n",
       "  </tbody>\n",
       "</table>\n",
       "<p>210 rows × 15 columns</p>\n",
       "</div>"
      ],
      "text/plain": [
       "        X0     X1      X2     X3     X4     X5     X6  Y       bin-X0  \\\n",
       "0    15.26  14.84  0.8710  5.763  3.312  2.221  5.220  1  14.00-16.00   \n",
       "1    14.88  14.57  0.8811  5.554  3.333  1.018  4.956  1  14.00-16.00   \n",
       "2    14.29  14.09  0.9050  5.291  3.337  2.699  4.825  1  14.00-16.00   \n",
       "3    13.84  13.94  0.8955  5.324  3.379  2.259  4.805  1  12.00-14.00   \n",
       "4    16.14  14.99  0.9034  5.658  3.562  1.355  5.175  1  16.00-18.00   \n",
       "..     ...    ...     ...    ...    ...    ...    ... ..          ...   \n",
       "205  12.19  13.20  0.8783  5.137  2.981  3.631  4.870  3  12.00-14.00   \n",
       "206  11.23  12.88  0.8511  5.140  2.795  4.325  5.003  3  10.00-12.00   \n",
       "207  13.20  13.66  0.8883  5.236  3.232  8.315  5.056  3  12.00-14.00   \n",
       "208  11.84  13.21  0.8521  5.175  2.836  3.598  5.044  3  10.00-12.00   \n",
       "209  12.30  13.34  0.8684  5.243  2.974  5.637  5.063  3  12.00-14.00   \n",
       "\n",
       "          bin-X1     bin-X2     bin-X3     bin-X4     bin-X5     bin-X6  \n",
       "0    14.00-15.00  0.86-0.88  5.75-6.00  3.20-3.40  2.00-3.00  5.00-5.25  \n",
       "1    14.00-15.00  0.88-0.90  5.50-5.75  3.20-3.40  1.00-2.00  4.75-5.00  \n",
       "2    14.00-15.00  0.90-0.92  5.25-5.50  3.20-3.40  2.00-3.00  4.75-5.00  \n",
       "3    13.00-14.00  0.88-0.90  5.25-5.50  3.20-3.40  2.00-3.00  4.75-5.00  \n",
       "4    14.00-15.00  0.90-0.92  5.50-5.75  3.40-3.60  1.00-2.00  5.00-5.25  \n",
       "..           ...        ...        ...        ...        ...        ...  \n",
       "205  13.00-14.00  0.86-0.88  5.00-5.25  2.80-3.00  3.00-4.00  4.75-5.00  \n",
       "206  12.00-13.00  0.84-0.86  5.00-5.25  2.60-2.80  4.00-5.00  5.00-5.25  \n",
       "207  13.00-14.00  0.88-0.90  5.00-5.25  3.20-3.40  8.00-9.00  5.00-5.25  \n",
       "208  13.00-14.00  0.84-0.86  5.00-5.25  2.80-3.00  3.00-4.00  5.00-5.25  \n",
       "209  13.00-14.00  0.86-0.88  5.00-5.25  2.80-3.00  5.00-6.00  5.00-5.25  \n",
       "\n",
       "[210 rows x 15 columns]"
      ]
     },
     "execution_count": 53,
     "metadata": {},
     "output_type": "execute_result"
    }
   ],
   "source": [
    "df"
   ]
  },
  {
   "cell_type": "markdown",
   "id": "7470fa1b",
   "metadata": {},
   "source": [
    "### (d) Determine the likelihood/class conditional probabilities for all the classes."
   ]
  },
  {
   "cell_type": "markdown",
   "id": "36d4ab3a",
   "metadata": {},
   "source": [
    "class conditional = p(x | ωj) = p(x ∩ ωj) / p(ωj)"
   ]
  },
  {
   "cell_type": "code",
   "execution_count": 54,
   "id": "c0c2f3f0",
   "metadata": {},
   "outputs": [],
   "source": [
    "new_df = pd.read_csv('dataset.csv')"
   ]
  },
  {
   "cell_type": "code",
   "execution_count": 55,
   "id": "67dd31d2",
   "metadata": {},
   "outputs": [],
   "source": [
    "def new_binning_using_difference(df, feature_name, diff):\n",
    "    min_element = df[feature_name].min()\n",
    "    max_element = df[feature_name].max()\n",
    "    \n",
    "    list_of_lists_of_indices = []\n",
    "    list_of_bin_names = []\n",
    "    \n",
    "    num = round(int(min_element/diff)*diff, 2)\n",
    "    \n",
    "    name = 1\n",
    "    while(max_element - num > 0):\n",
    "        df_needed = df[feature_name]\n",
    "        df_needed = df_needed[df_needed >= num]\n",
    "        df_needed = df_needed[df_needed < num + diff]\n",
    "        list_of_indices = list(df_needed.index)\n",
    "        \n",
    "        list_of_lists_of_indices.append(list_of_indices)\n",
    "        list_of_bin_names.append(name)\n",
    "        \n",
    "        num += diff\n",
    "        name += 1\n",
    "\n",
    "    df[f'bin-{feature_name}'] = 0\n",
    "        \n",
    "    for l in range(len(list_of_lists_of_indices)):\n",
    "        corresponding_name = list_of_bin_names[l]\n",
    "        if len(list_of_lists_of_indices[l]) > 0:\n",
    "            for ind in list_of_lists_of_indices[l]:\n",
    "                df[f'bin-{feature_name}'][ind] = corresponding_name\n",
    "            \n",
    "    return df"
   ]
  },
  {
   "cell_type": "code",
   "execution_count": 56,
   "id": "f272f711",
   "metadata": {},
   "outputs": [],
   "source": [
    "features = ['X0', 'X1', 'X2', 'X3', 'X4', 'X5', 'X6']\n",
    "diff_for_features = [2, 1, 0.02, 0.25, 0.2, 1, 0.25]"
   ]
  },
  {
   "cell_type": "code",
   "execution_count": 57,
   "id": "a0964888",
   "metadata": {},
   "outputs": [],
   "source": [
    "for i in range(len(features)):\n",
    "    new_df = new_binning_using_difference(new_df, features[i], diff_for_features[i])"
   ]
  },
  {
   "cell_type": "code",
   "execution_count": 58,
   "id": "61a98815",
   "metadata": {},
   "outputs": [],
   "source": [
    "prior_dict = {1: prior1, 2: prior2, 3: prior3}\n",
    "\n",
    "def likelihood(new_df, Feature, Bin, Class):\n",
    "    L = len(new_df)\n",
    "    \n",
    "    new_df = new_df[new_df[Feature]==Bin]\n",
    "    new_df = new_df[new_df['Y']==Class]\n",
    "    \n",
    "    return len(new_df)/(L * prior_dict[Class])"
   ]
  },
  {
   "cell_type": "code",
   "execution_count": 59,
   "id": "8f1db276",
   "metadata": {},
   "outputs": [
    {
     "name": "stdout",
     "output_type": "stream",
     "text": [
      "Likelihood for bin no.:1, in X0 for class 1 = 0.02857142857142857\n",
      "Likelihood for bin no.:1, in X0 for class 2 = 0.0\n",
      "Likelihood for bin no.:1, in X0 for class 3 = 0.5285714285714286\n",
      "\n",
      "\n",
      "Likelihood for bin no.:2, in X0 for class 1 = 0.3142857142857143\n",
      "Likelihood for bin no.:2, in X0 for class 2 = 0.0\n",
      "Likelihood for bin no.:2, in X0 for class 3 = 0.4714285714285714\n",
      "\n",
      "\n",
      "Likelihood for bin no.:3, in X0 for class 1 = 0.5571428571428572\n",
      "Likelihood for bin no.:3, in X0 for class 2 = 0.08571428571428572\n",
      "Likelihood for bin no.:3, in X0 for class 3 = 0.0\n",
      "\n",
      "\n",
      "Likelihood for bin no.:4, in X0 for class 1 = 0.1\n",
      "Likelihood for bin no.:4, in X0 for class 2 = 0.2571428571428571\n",
      "Likelihood for bin no.:4, in X0 for class 3 = 0.0\n",
      "\n",
      "\n",
      "Likelihood for bin no.:5, in X0 for class 1 = 0.0\n",
      "Likelihood for bin no.:5, in X0 for class 2 = 0.5285714285714286\n",
      "Likelihood for bin no.:5, in X0 for class 3 = 0.0\n",
      "\n",
      "\n",
      "Likelihood for bin no.:6, in X0 for class 1 = 0.0\n",
      "Likelihood for bin no.:6, in X0 for class 2 = 0.12857142857142856\n",
      "Likelihood for bin no.:6, in X0 for class 3 = 0.0\n",
      "\n",
      "\n",
      "---------------------------------------------------------------------- \n",
      "\n",
      "Likelihood for bin no.:1, in X1 for class 1 = 0.02857142857142857\n",
      "Likelihood for bin no.:1, in X1 for class 2 = 0.0\n",
      "Likelihood for bin no.:1, in X1 for class 3 = 0.22857142857142856\n",
      "\n",
      "\n",
      "Likelihood for bin no.:2, in X1 for class 1 = 0.22857142857142856\n",
      "Likelihood for bin no.:2, in X1 for class 2 = 0.0\n",
      "Likelihood for bin no.:2, in X1 for class 3 = 0.7714285714285715\n",
      "\n",
      "\n",
      "Likelihood for bin no.:3, in X1 for class 1 = 0.6571428571428571\n",
      "Likelihood for bin no.:3, in X1 for class 2 = 0.05714285714285714\n",
      "Likelihood for bin no.:3, in X1 for class 3 = 0.0\n",
      "\n",
      "\n",
      "Likelihood for bin no.:4, in X1 for class 1 = 0.08571428571428572\n",
      "Likelihood for bin no.:4, in X1 for class 2 = 0.3142857142857143\n",
      "Likelihood for bin no.:4, in X1 for class 3 = 0.0\n",
      "\n",
      "\n",
      "Likelihood for bin no.:5, in X1 for class 1 = 0.0\n",
      "Likelihood for bin no.:5, in X1 for class 2 = 0.5571428571428572\n",
      "Likelihood for bin no.:5, in X1 for class 3 = 0.0\n",
      "\n",
      "\n",
      "Likelihood for bin no.:6, in X1 for class 1 = 0.0\n",
      "Likelihood for bin no.:6, in X1 for class 2 = 0.07142857142857142\n",
      "Likelihood for bin no.:6, in X1 for class 3 = 0.0\n",
      "\n",
      "\n",
      "---------------------------------------------------------------------- \n",
      "\n",
      "Likelihood for bin no.:1, in X2 for class 1 = 0.0\n",
      "Likelihood for bin no.:1, in X2 for class 2 = 0.0\n",
      "Likelihood for bin no.:1, in X2 for class 3 = 0.11428571428571428\n",
      "\n",
      "\n",
      "Likelihood for bin no.:2, in X2 for class 1 = 0.014285714285714285\n",
      "Likelihood for bin no.:2, in X2 for class 2 = 0.0\n",
      "Likelihood for bin no.:2, in X2 for class 3 = 0.22857142857142856\n",
      "\n",
      "\n",
      "Likelihood for bin no.:3, in X2 for class 1 = 0.08571428571428572\n",
      "Likelihood for bin no.:3, in X2 for class 2 = 0.08571428571428572\n",
      "Likelihood for bin no.:3, in X2 for class 3 = 0.37142857142857144\n",
      "\n",
      "\n",
      "Likelihood for bin no.:4, in X2 for class 1 = 0.4\n",
      "Likelihood for bin no.:4, in X2 for class 2 = 0.34285714285714286\n",
      "Likelihood for bin no.:4, in X2 for class 3 = 0.2\n",
      "\n",
      "\n",
      "Likelihood for bin no.:5, in X2 for class 1 = 0.38571428571428573\n",
      "Likelihood for bin no.:5, in X2 for class 2 = 0.42857142857142855\n",
      "Likelihood for bin no.:5, in X2 for class 3 = 0.08571428571428572\n",
      "\n",
      "\n",
      "Likelihood for bin no.:6, in X2 for class 1 = 0.11428571428571428\n",
      "Likelihood for bin no.:6, in X2 for class 2 = 0.14285714285714285\n",
      "Likelihood for bin no.:6, in X2 for class 3 = 0.0\n",
      "\n",
      "\n",
      "---------------------------------------------------------------------- \n",
      "\n",
      "Likelihood for bin no.:1, in X3 for class 1 = 0.014285714285714285\n",
      "Likelihood for bin no.:1, in X3 for class 2 = 0.0\n",
      "Likelihood for bin no.:1, in X3 for class 3 = 0.04285714285714286\n",
      "\n",
      "\n",
      "Likelihood for bin no.:2, in X3 for class 1 = 0.12857142857142856\n",
      "Likelihood for bin no.:2, in X3 for class 2 = 0.0\n",
      "Likelihood for bin no.:2, in X3 for class 3 = 0.5428571428571428\n",
      "\n",
      "\n",
      "Likelihood for bin no.:3, in X3 for class 1 = 0.3\n",
      "Likelihood for bin no.:3, in X3 for class 2 = 0.02857142857142857\n",
      "Likelihood for bin no.:3, in X3 for class 3 = 0.4\n",
      "\n",
      "\n",
      "Likelihood for bin no.:4, in X3 for class 1 = 0.42857142857142855\n",
      "Likelihood for bin no.:4, in X3 for class 2 = 0.014285714285714285\n",
      "Likelihood for bin no.:4, in X3 for class 3 = 0.014285714285714285\n",
      "\n",
      "\n",
      "Likelihood for bin no.:5, in X3 for class 1 = 0.11428571428571428\n",
      "Likelihood for bin no.:5, in X3 for class 2 = 0.24285714285714285\n",
      "Likelihood for bin no.:5, in X3 for class 3 = 0.0\n",
      "\n",
      "\n",
      "Likelihood for bin no.:6, in X3 for class 1 = 0.014285714285714285\n",
      "Likelihood for bin no.:6, in X3 for class 2 = 0.37142857142857144\n",
      "Likelihood for bin no.:6, in X3 for class 3 = 0.0\n",
      "\n",
      "\n",
      "Likelihood for bin no.:7, in X3 for class 1 = 0.0\n",
      "Likelihood for bin no.:7, in X3 for class 2 = 0.22857142857142856\n",
      "Likelihood for bin no.:7, in X3 for class 3 = 0.0\n",
      "\n",
      "\n",
      "Likelihood for bin no.:8, in X3 for class 1 = 0.0\n",
      "Likelihood for bin no.:8, in X3 for class 2 = 0.11428571428571428\n",
      "Likelihood for bin no.:8, in X3 for class 3 = 0.0\n",
      "\n",
      "\n",
      "---------------------------------------------------------------------- \n",
      "\n",
      "Likelihood for bin no.:1, in X4 for class 1 = 0.0\n",
      "Likelihood for bin no.:1, in X4 for class 2 = 0.0\n",
      "Likelihood for bin no.:1, in X4 for class 3 = 0.4142857142857143\n",
      "\n",
      "\n",
      "Likelihood for bin no.:2, in X4 for class 1 = 0.08571428571428572\n",
      "Likelihood for bin no.:2, in X4 for class 2 = 0.0\n",
      "Likelihood for bin no.:2, in X4 for class 3 = 0.42857142857142855\n",
      "\n",
      "\n",
      "Likelihood for bin no.:3, in X4 for class 1 = 0.34285714285714286\n",
      "Likelihood for bin no.:3, in X4 for class 2 = 0.0\n",
      "Likelihood for bin no.:3, in X4 for class 3 = 0.14285714285714285\n",
      "\n",
      "\n",
      "Likelihood for bin no.:4, in X4 for class 1 = 0.37142857142857144\n",
      "Likelihood for bin no.:4, in X4 for class 2 = 0.07142857142857142\n",
      "Likelihood for bin no.:4, in X4 for class 3 = 0.014285714285714285\n",
      "\n",
      "\n",
      "Likelihood for bin no.:5, in X4 for class 1 = 0.18571428571428572\n",
      "Likelihood for bin no.:5, in X4 for class 2 = 0.3\n",
      "Likelihood for bin no.:5, in X4 for class 3 = 0.0\n",
      "\n",
      "\n",
      "Likelihood for bin no.:6, in X4 for class 1 = 0.014285714285714285\n",
      "Likelihood for bin no.:6, in X4 for class 2 = 0.35714285714285715\n",
      "Likelihood for bin no.:6, in X4 for class 3 = 0.0\n",
      "\n",
      "\n",
      "Likelihood for bin no.:7, in X4 for class 1 = 0.0\n",
      "Likelihood for bin no.:7, in X4 for class 2 = 0.24285714285714285\n",
      "Likelihood for bin no.:7, in X4 for class 3 = 0.0\n",
      "\n",
      "\n",
      "Likelihood for bin no.:8, in X4 for class 1 = 0.0\n",
      "Likelihood for bin no.:8, in X4 for class 2 = 0.02857142857142857\n",
      "Likelihood for bin no.:8, in X4 for class 3 = 0.0\n",
      "\n",
      "\n",
      "---------------------------------------------------------------------- \n",
      "\n",
      "Likelihood for bin no.:1, in X5 for class 1 = 0.04285714285714286\n",
      "Likelihood for bin no.:1, in X5 for class 2 = 0.0\n",
      "Likelihood for bin no.:1, in X5 for class 3 = 0.0\n",
      "\n",
      "\n",
      "Likelihood for bin no.:2, in X5 for class 1 = 0.2571428571428571\n",
      "Likelihood for bin no.:2, in X5 for class 2 = 0.07142857142857142\n",
      "Likelihood for bin no.:2, in X5 for class 3 = 0.014285714285714285\n",
      "\n",
      "\n",
      "Likelihood for bin no.:3, in X5 for class 1 = 0.37142857142857144\n",
      "Likelihood for bin no.:3, in X5 for class 2 = 0.2714285714285714\n",
      "Likelihood for bin no.:3, in X5 for class 3 = 0.05714285714285714\n",
      "\n",
      "\n",
      "Likelihood for bin no.:4, in X5 for class 1 = 0.2\n",
      "Likelihood for bin no.:4, in X5 for class 2 = 0.2714285714285714\n",
      "Likelihood for bin no.:4, in X5 for class 3 = 0.17142857142857143\n",
      "\n",
      "\n",
      "Likelihood for bin no.:5, in X5 for class 1 = 0.08571428571428572\n",
      "Likelihood for bin no.:5, in X5 for class 2 = 0.24285714285714285\n",
      "Likelihood for bin no.:5, in X5 for class 3 = 0.38571428571428573\n",
      "\n",
      "\n",
      "Likelihood for bin no.:6, in X5 for class 1 = 0.02857142857142857\n",
      "Likelihood for bin no.:6, in X5 for class 2 = 0.11428571428571428\n",
      "Likelihood for bin no.:6, in X5 for class 3 = 0.22857142857142856\n",
      "\n",
      "\n",
      "Likelihood for bin no.:7, in X5 for class 1 = 0.014285714285714285\n",
      "Likelihood for bin no.:7, in X5 for class 2 = 0.02857142857142857\n",
      "Likelihood for bin no.:7, in X5 for class 3 = 0.08571428571428572\n",
      "\n",
      "\n",
      "Likelihood for bin no.:8, in X5 for class 1 = 0.0\n",
      "Likelihood for bin no.:8, in X5 for class 2 = 0.0\n",
      "Likelihood for bin no.:8, in X5 for class 3 = 0.02857142857142857\n",
      "\n",
      "\n",
      "Likelihood for bin no.:9, in X5 for class 1 = 0.0\n",
      "Likelihood for bin no.:9, in X5 for class 2 = 0.0\n",
      "Likelihood for bin no.:9, in X5 for class 3 = 0.02857142857142857\n",
      "\n",
      "\n",
      "---------------------------------------------------------------------- \n",
      "\n",
      "Likelihood for bin no.:1, in X6 for class 1 = 0.1\n",
      "Likelihood for bin no.:1, in X6 for class 2 = 0.0\n",
      "Likelihood for bin no.:1, in X6 for class 3 = 0.014285714285714285\n",
      "\n",
      "\n",
      "Likelihood for bin no.:2, in X6 for class 1 = 0.21428571428571427\n",
      "Likelihood for bin no.:2, in X6 for class 2 = 0.0\n",
      "Likelihood for bin no.:2, in X6 for class 3 = 0.15714285714285714\n",
      "\n",
      "\n",
      "Likelihood for bin no.:3, in X6 for class 1 = 0.45714285714285713\n",
      "Likelihood for bin no.:3, in X6 for class 2 = 0.014285714285714285\n",
      "Likelihood for bin no.:3, in X6 for class 3 = 0.5857142857142857\n",
      "\n",
      "\n",
      "Likelihood for bin no.:4, in X6 for class 1 = 0.17142857142857143\n",
      "Likelihood for bin no.:4, in X6 for class 2 = 0.014285714285714285\n",
      "Likelihood for bin no.:4, in X6 for class 3 = 0.24285714285714285\n",
      "\n",
      "\n",
      "Likelihood for bin no.:5, in X6 for class 1 = 0.04285714285714286\n",
      "Likelihood for bin no.:5, in X6 for class 2 = 0.05714285714285714\n",
      "Likelihood for bin no.:5, in X6 for class 3 = 0.0\n",
      "\n",
      "\n",
      "Likelihood for bin no.:6, in X6 for class 1 = 0.014285714285714285\n",
      "Likelihood for bin no.:6, in X6 for class 2 = 0.42857142857142855\n",
      "Likelihood for bin no.:6, in X6 for class 3 = 0.0\n",
      "\n",
      "\n",
      "Likelihood for bin no.:7, in X6 for class 1 = 0.0\n",
      "Likelihood for bin no.:7, in X6 for class 2 = 0.3142857142857143\n",
      "Likelihood for bin no.:7, in X6 for class 3 = 0.0\n",
      "\n",
      "\n",
      "Likelihood for bin no.:8, in X6 for class 1 = 0.0\n",
      "Likelihood for bin no.:8, in X6 for class 2 = 0.15714285714285714\n",
      "Likelihood for bin no.:8, in X6 for class 3 = 0.0\n",
      "\n",
      "\n",
      "Likelihood for bin no.:9, in X6 for class 1 = 0.0\n",
      "Likelihood for bin no.:9, in X6 for class 2 = 0.014285714285714285\n",
      "Likelihood for bin no.:9, in X6 for class 3 = 0.0\n",
      "\n",
      "\n",
      "---------------------------------------------------------------------- \n",
      "\n"
     ]
    }
   ],
   "source": [
    "for Feature in ['bin-X0', 'bin-X1', 'bin-X2', 'bin-X3', 'bin-X4', 'bin-X5', 'bin-X6']:\n",
    "    length = len(new_df[Feature].unique())\n",
    "    \n",
    "    for each in range(1, length+1):\n",
    "        for Class in range(1,4):\n",
    "            print(f'Likelihood for bin no.:{each}, in {Feature[4:7]} for class {Class} =', likelihood(new_df, Feature, each, Class))\n",
    "        print('\\n')\n",
    "    print('-'*70,'\\n')"
   ]
  },
  {
   "cell_type": "markdown",
   "id": "9775c823",
   "metadata": {},
   "source": [
    "### (e) Plot the count of each unique element for each class."
   ]
  },
  {
   "cell_type": "code",
   "execution_count": 60,
   "id": "1cf42bf7",
   "metadata": {},
   "outputs": [
    {
     "name": "stdout",
     "output_type": "stream",
     "text": [
      "bin-X0       Y\n",
      "10.00-12.00  3    37\n",
      "             1     2\n",
      "12.00-14.00  3    33\n",
      "             1    22\n",
      "14.00-16.00  1    39\n",
      "             2     6\n",
      "16.00-18.00  2    18\n",
      "             1     7\n",
      "18.00-20.00  2    37\n",
      "20.00-22.00  2     9\n",
      "Name: Y, dtype: int64\n",
      "\n",
      "\n",
      "bin-X1       Y\n",
      "12.00-13.00  3    16\n",
      "             1     2\n",
      "13.00-14.00  3    54\n",
      "             1    16\n",
      "14.00-15.00  1    46\n",
      "             2     4\n",
      "15.00-16.00  2    22\n",
      "             1     6\n",
      "16.00-17.00  2    39\n",
      "17.00-18.00  2     5\n",
      "Name: Y, dtype: int64\n",
      "\n",
      "\n",
      "bin-X2     Y\n",
      "0.80-0.82  3     8\n",
      "0.82-0.84  3    16\n",
      "           1     1\n",
      "0.84-0.86  3    26\n",
      "           1     6\n",
      "           2     6\n",
      "0.86-0.88  1    28\n",
      "           2    24\n",
      "           3    14\n",
      "0.88-0.90  2    30\n",
      "           1    27\n",
      "           3     6\n",
      "0.90-0.92  2    10\n",
      "           1     8\n",
      "Name: Y, dtype: int64\n",
      "\n",
      "\n",
      "bin-X3     Y\n",
      "4.75-5.00  3     3\n",
      "           1     1\n",
      "5.00-5.25  3    38\n",
      "           1     9\n",
      "5.25-5.50  3    28\n",
      "           1    21\n",
      "           2     2\n",
      "5.50-5.75  1    30\n",
      "           2     1\n",
      "           3     1\n",
      "5.75-6.00  2    17\n",
      "           1     8\n",
      "6.00-6.25  2    26\n",
      "           1     1\n",
      "6.25-6.50  2    16\n",
      "6.50-6.75  2     8\n",
      "Name: Y, dtype: int64\n",
      "\n",
      "\n",
      "bin-X4     Y\n",
      "2.60-2.80  3    29\n",
      "2.80-3.00  3    30\n",
      "           1     6\n",
      "3.00-3.20  1    24\n",
      "           3    10\n",
      "3.20-3.40  1    26\n",
      "           2     5\n",
      "           3     1\n",
      "3.40-3.60  2    21\n",
      "           1    13\n",
      "3.60-3.80  2    25\n",
      "           1     1\n",
      "3.80-4.00  2    17\n",
      "4.00-4.20  2     2\n",
      "Name: Y, dtype: int64\n",
      "\n",
      "\n",
      "bin-X5     Y\n",
      "0.00-1.00  1     3\n",
      "1.00-2.00  1    18\n",
      "           2     5\n",
      "           3     1\n",
      "2.00-3.00  1    26\n",
      "           2    19\n",
      "           3     4\n",
      "3.00-4.00  2    19\n",
      "           1    14\n",
      "           3    12\n",
      "4.00-5.00  3    27\n",
      "           2    17\n",
      "           1     6\n",
      "5.00-6.00  3    16\n",
      "           2     8\n",
      "           1     2\n",
      "6.00-7.00  3     6\n",
      "           2     2\n",
      "           1     1\n",
      "7.00-8.00  3     2\n",
      "8.00-9.00  3     2\n",
      "Name: Y, dtype: int64\n",
      "\n",
      "\n",
      "bin-X6     Y\n",
      "4.50-4.75  1     7\n",
      "           3     1\n",
      "4.75-5.00  1    15\n",
      "           3    11\n",
      "5.00-5.25  3    41\n",
      "           1    32\n",
      "           2     1\n",
      "5.25-5.50  3    17\n",
      "           1    12\n",
      "           2     1\n",
      "5.50-5.75  2     4\n",
      "           1     3\n",
      "5.75-6.00  2    30\n",
      "           1     1\n",
      "6.00-6.25  2    22\n",
      "6.25-6.50  2    11\n",
      "6.50-6.75  2     1\n",
      "Name: Y, dtype: int64\n",
      "\n",
      "\n"
     ]
    }
   ],
   "source": [
    "for i in range(0,7):\n",
    "    print(df.groupby(f'bin-X{i}')['Y'].value_counts())\n",
    "    print('\\n')"
   ]
  },
  {
   "cell_type": "code",
   "execution_count": 61,
   "id": "cf0cef49",
   "metadata": {},
   "outputs": [
    {
     "name": "stdout",
     "output_type": "stream",
     "text": [
      "bin-X0 = {('10.00-12.00', 3): 37, ('10.00-12.00', 1): 2, ('12.00-14.00', 3): 33, ('12.00-14.00', 1): 22, ('14.00-16.00', 1): 39, ('14.00-16.00', 2): 6, ('16.00-18.00', 2): 18, ('16.00-18.00', 1): 7, ('18.00-20.00', 2): 37, ('20.00-22.00', 2): 9}\n",
      "\n",
      "\n",
      "bin-X1 = {('12.00-13.00', 3): 16, ('12.00-13.00', 1): 2, ('13.00-14.00', 3): 54, ('13.00-14.00', 1): 16, ('14.00-15.00', 1): 46, ('14.00-15.00', 2): 4, ('15.00-16.00', 2): 22, ('15.00-16.00', 1): 6, ('16.00-17.00', 2): 39, ('17.00-18.00', 2): 5}\n",
      "\n",
      "\n",
      "bin-X2 = {('0.80-0.82', 3): 8, ('0.82-0.84', 3): 16, ('0.82-0.84', 1): 1, ('0.84-0.86', 3): 26, ('0.84-0.86', 1): 6, ('0.84-0.86', 2): 6, ('0.86-0.88', 1): 28, ('0.86-0.88', 2): 24, ('0.86-0.88', 3): 14, ('0.88-0.90', 2): 30, ('0.88-0.90', 1): 27, ('0.88-0.90', 3): 6, ('0.90-0.92', 2): 10, ('0.90-0.92', 1): 8}\n",
      "\n",
      "\n",
      "bin-X3 = {('4.75-5.00', 3): 3, ('4.75-5.00', 1): 1, ('5.00-5.25', 3): 38, ('5.00-5.25', 1): 9, ('5.25-5.50', 3): 28, ('5.25-5.50', 1): 21, ('5.25-5.50', 2): 2, ('5.50-5.75', 1): 30, ('5.50-5.75', 2): 1, ('5.50-5.75', 3): 1, ('5.75-6.00', 2): 17, ('5.75-6.00', 1): 8, ('6.00-6.25', 2): 26, ('6.00-6.25', 1): 1, ('6.25-6.50', 2): 16, ('6.50-6.75', 2): 8}\n",
      "\n",
      "\n",
      "bin-X4 = {('2.60-2.80', 3): 29, ('2.80-3.00', 3): 30, ('2.80-3.00', 1): 6, ('3.00-3.20', 1): 24, ('3.00-3.20', 3): 10, ('3.20-3.40', 1): 26, ('3.20-3.40', 2): 5, ('3.20-3.40', 3): 1, ('3.40-3.60', 2): 21, ('3.40-3.60', 1): 13, ('3.60-3.80', 2): 25, ('3.60-3.80', 1): 1, ('3.80-4.00', 2): 17, ('4.00-4.20', 2): 2}\n",
      "\n",
      "\n",
      "bin-X5 = {('0.00-1.00', 1): 3, ('1.00-2.00', 1): 18, ('1.00-2.00', 2): 5, ('1.00-2.00', 3): 1, ('2.00-3.00', 1): 26, ('2.00-3.00', 2): 19, ('2.00-3.00', 3): 4, ('3.00-4.00', 2): 19, ('3.00-4.00', 1): 14, ('3.00-4.00', 3): 12, ('4.00-5.00', 3): 27, ('4.00-5.00', 2): 17, ('4.00-5.00', 1): 6, ('5.00-6.00', 3): 16, ('5.00-6.00', 2): 8, ('5.00-6.00', 1): 2, ('6.00-7.00', 3): 6, ('6.00-7.00', 2): 2, ('6.00-7.00', 1): 1, ('7.00-8.00', 3): 2, ('8.00-9.00', 3): 2}\n",
      "\n",
      "\n",
      "bin-X6 = {('4.50-4.75', 1): 7, ('4.50-4.75', 3): 1, ('4.75-5.00', 1): 15, ('4.75-5.00', 3): 11, ('5.00-5.25', 3): 41, ('5.00-5.25', 1): 32, ('5.00-5.25', 2): 1, ('5.25-5.50', 3): 17, ('5.25-5.50', 1): 12, ('5.25-5.50', 2): 1, ('5.50-5.75', 2): 4, ('5.50-5.75', 1): 3, ('5.75-6.00', 2): 30, ('5.75-6.00', 1): 1, ('6.00-6.25', 2): 22, ('6.25-6.50', 2): 11, ('6.50-6.75', 2): 1}\n",
      "\n",
      "\n"
     ]
    }
   ],
   "source": [
    "for i in range(0,7):\n",
    "    print(f'bin-X{i} =', dict(df.groupby(f'bin-X{i}')['Y'].value_counts()))\n",
    "    print('\\n')"
   ]
  },
  {
   "cell_type": "code",
   "execution_count": 62,
   "id": "9d7891f8",
   "metadata": {},
   "outputs": [
    {
     "data": {
      "text/html": [
       "<div>\n",
       "<style scoped>\n",
       "    .dataframe tbody tr th:only-of-type {\n",
       "        vertical-align: middle;\n",
       "    }\n",
       "\n",
       "    .dataframe tbody tr th {\n",
       "        vertical-align: top;\n",
       "    }\n",
       "\n",
       "    .dataframe thead th {\n",
       "        text-align: right;\n",
       "    }\n",
       "</style>\n",
       "<table border=\"1\" class=\"dataframe\">\n",
       "  <thead>\n",
       "    <tr style=\"text-align: right;\">\n",
       "      <th></th>\n",
       "      <th>X0</th>\n",
       "      <th>X1</th>\n",
       "      <th>X2</th>\n",
       "      <th>X3</th>\n",
       "      <th>X4</th>\n",
       "      <th>X5</th>\n",
       "      <th>X6</th>\n",
       "      <th>Y</th>\n",
       "      <th>bin-X0</th>\n",
       "      <th>bin-X1</th>\n",
       "      <th>bin-X2</th>\n",
       "      <th>bin-X3</th>\n",
       "      <th>bin-X4</th>\n",
       "      <th>bin-X5</th>\n",
       "      <th>bin-X6</th>\n",
       "    </tr>\n",
       "  </thead>\n",
       "  <tbody>\n",
       "    <tr>\n",
       "      <th>0</th>\n",
       "      <td>15.26</td>\n",
       "      <td>14.84</td>\n",
       "      <td>0.8710</td>\n",
       "      <td>5.763</td>\n",
       "      <td>3.312</td>\n",
       "      <td>2.221</td>\n",
       "      <td>5.220</td>\n",
       "      <td>1</td>\n",
       "      <td>3</td>\n",
       "      <td>3</td>\n",
       "      <td>4</td>\n",
       "      <td>5</td>\n",
       "      <td>4</td>\n",
       "      <td>3</td>\n",
       "      <td>3</td>\n",
       "    </tr>\n",
       "    <tr>\n",
       "      <th>1</th>\n",
       "      <td>14.88</td>\n",
       "      <td>14.57</td>\n",
       "      <td>0.8811</td>\n",
       "      <td>5.554</td>\n",
       "      <td>3.333</td>\n",
       "      <td>1.018</td>\n",
       "      <td>4.956</td>\n",
       "      <td>1</td>\n",
       "      <td>3</td>\n",
       "      <td>3</td>\n",
       "      <td>5</td>\n",
       "      <td>4</td>\n",
       "      <td>4</td>\n",
       "      <td>2</td>\n",
       "      <td>2</td>\n",
       "    </tr>\n",
       "    <tr>\n",
       "      <th>2</th>\n",
       "      <td>14.29</td>\n",
       "      <td>14.09</td>\n",
       "      <td>0.9050</td>\n",
       "      <td>5.291</td>\n",
       "      <td>3.337</td>\n",
       "      <td>2.699</td>\n",
       "      <td>4.825</td>\n",
       "      <td>1</td>\n",
       "      <td>3</td>\n",
       "      <td>3</td>\n",
       "      <td>6</td>\n",
       "      <td>3</td>\n",
       "      <td>4</td>\n",
       "      <td>3</td>\n",
       "      <td>2</td>\n",
       "    </tr>\n",
       "    <tr>\n",
       "      <th>3</th>\n",
       "      <td>13.84</td>\n",
       "      <td>13.94</td>\n",
       "      <td>0.8955</td>\n",
       "      <td>5.324</td>\n",
       "      <td>3.379</td>\n",
       "      <td>2.259</td>\n",
       "      <td>4.805</td>\n",
       "      <td>1</td>\n",
       "      <td>2</td>\n",
       "      <td>2</td>\n",
       "      <td>5</td>\n",
       "      <td>3</td>\n",
       "      <td>4</td>\n",
       "      <td>3</td>\n",
       "      <td>2</td>\n",
       "    </tr>\n",
       "    <tr>\n",
       "      <th>4</th>\n",
       "      <td>16.14</td>\n",
       "      <td>14.99</td>\n",
       "      <td>0.9034</td>\n",
       "      <td>5.658</td>\n",
       "      <td>3.562</td>\n",
       "      <td>1.355</td>\n",
       "      <td>5.175</td>\n",
       "      <td>1</td>\n",
       "      <td>4</td>\n",
       "      <td>3</td>\n",
       "      <td>6</td>\n",
       "      <td>4</td>\n",
       "      <td>5</td>\n",
       "      <td>2</td>\n",
       "      <td>3</td>\n",
       "    </tr>\n",
       "    <tr>\n",
       "      <th>...</th>\n",
       "      <td>...</td>\n",
       "      <td>...</td>\n",
       "      <td>...</td>\n",
       "      <td>...</td>\n",
       "      <td>...</td>\n",
       "      <td>...</td>\n",
       "      <td>...</td>\n",
       "      <td>...</td>\n",
       "      <td>...</td>\n",
       "      <td>...</td>\n",
       "      <td>...</td>\n",
       "      <td>...</td>\n",
       "      <td>...</td>\n",
       "      <td>...</td>\n",
       "      <td>...</td>\n",
       "    </tr>\n",
       "    <tr>\n",
       "      <th>205</th>\n",
       "      <td>12.19</td>\n",
       "      <td>13.20</td>\n",
       "      <td>0.8783</td>\n",
       "      <td>5.137</td>\n",
       "      <td>2.981</td>\n",
       "      <td>3.631</td>\n",
       "      <td>4.870</td>\n",
       "      <td>3</td>\n",
       "      <td>2</td>\n",
       "      <td>2</td>\n",
       "      <td>4</td>\n",
       "      <td>2</td>\n",
       "      <td>2</td>\n",
       "      <td>4</td>\n",
       "      <td>2</td>\n",
       "    </tr>\n",
       "    <tr>\n",
       "      <th>206</th>\n",
       "      <td>11.23</td>\n",
       "      <td>12.88</td>\n",
       "      <td>0.8511</td>\n",
       "      <td>5.140</td>\n",
       "      <td>2.795</td>\n",
       "      <td>4.325</td>\n",
       "      <td>5.003</td>\n",
       "      <td>3</td>\n",
       "      <td>1</td>\n",
       "      <td>1</td>\n",
       "      <td>3</td>\n",
       "      <td>2</td>\n",
       "      <td>1</td>\n",
       "      <td>5</td>\n",
       "      <td>3</td>\n",
       "    </tr>\n",
       "    <tr>\n",
       "      <th>207</th>\n",
       "      <td>13.20</td>\n",
       "      <td>13.66</td>\n",
       "      <td>0.8883</td>\n",
       "      <td>5.236</td>\n",
       "      <td>3.232</td>\n",
       "      <td>8.315</td>\n",
       "      <td>5.056</td>\n",
       "      <td>3</td>\n",
       "      <td>2</td>\n",
       "      <td>2</td>\n",
       "      <td>5</td>\n",
       "      <td>2</td>\n",
       "      <td>4</td>\n",
       "      <td>9</td>\n",
       "      <td>3</td>\n",
       "    </tr>\n",
       "    <tr>\n",
       "      <th>208</th>\n",
       "      <td>11.84</td>\n",
       "      <td>13.21</td>\n",
       "      <td>0.8521</td>\n",
       "      <td>5.175</td>\n",
       "      <td>2.836</td>\n",
       "      <td>3.598</td>\n",
       "      <td>5.044</td>\n",
       "      <td>3</td>\n",
       "      <td>1</td>\n",
       "      <td>2</td>\n",
       "      <td>3</td>\n",
       "      <td>2</td>\n",
       "      <td>2</td>\n",
       "      <td>4</td>\n",
       "      <td>3</td>\n",
       "    </tr>\n",
       "    <tr>\n",
       "      <th>209</th>\n",
       "      <td>12.30</td>\n",
       "      <td>13.34</td>\n",
       "      <td>0.8684</td>\n",
       "      <td>5.243</td>\n",
       "      <td>2.974</td>\n",
       "      <td>5.637</td>\n",
       "      <td>5.063</td>\n",
       "      <td>3</td>\n",
       "      <td>2</td>\n",
       "      <td>2</td>\n",
       "      <td>4</td>\n",
       "      <td>2</td>\n",
       "      <td>2</td>\n",
       "      <td>6</td>\n",
       "      <td>3</td>\n",
       "    </tr>\n",
       "  </tbody>\n",
       "</table>\n",
       "<p>210 rows × 15 columns</p>\n",
       "</div>"
      ],
      "text/plain": [
       "        X0     X1      X2     X3     X4     X5     X6  Y  bin-X0  bin-X1  \\\n",
       "0    15.26  14.84  0.8710  5.763  3.312  2.221  5.220  1       3       3   \n",
       "1    14.88  14.57  0.8811  5.554  3.333  1.018  4.956  1       3       3   \n",
       "2    14.29  14.09  0.9050  5.291  3.337  2.699  4.825  1       3       3   \n",
       "3    13.84  13.94  0.8955  5.324  3.379  2.259  4.805  1       2       2   \n",
       "4    16.14  14.99  0.9034  5.658  3.562  1.355  5.175  1       4       3   \n",
       "..     ...    ...     ...    ...    ...    ...    ... ..     ...     ...   \n",
       "205  12.19  13.20  0.8783  5.137  2.981  3.631  4.870  3       2       2   \n",
       "206  11.23  12.88  0.8511  5.140  2.795  4.325  5.003  3       1       1   \n",
       "207  13.20  13.66  0.8883  5.236  3.232  8.315  5.056  3       2       2   \n",
       "208  11.84  13.21  0.8521  5.175  2.836  3.598  5.044  3       1       2   \n",
       "209  12.30  13.34  0.8684  5.243  2.974  5.637  5.063  3       2       2   \n",
       "\n",
       "     bin-X2  bin-X3  bin-X4  bin-X5  bin-X6  \n",
       "0         4       5       4       3       3  \n",
       "1         5       4       4       2       2  \n",
       "2         6       3       4       3       2  \n",
       "3         5       3       4       3       2  \n",
       "4         6       4       5       2       3  \n",
       "..      ...     ...     ...     ...     ...  \n",
       "205       4       2       2       4       2  \n",
       "206       3       2       1       5       3  \n",
       "207       5       2       4       9       3  \n",
       "208       3       2       2       4       3  \n",
       "209       4       2       2       6       3  \n",
       "\n",
       "[210 rows x 15 columns]"
      ]
     },
     "execution_count": 62,
     "metadata": {},
     "output_type": "execute_result"
    }
   ],
   "source": [
    "new_df"
   ]
  },
  {
   "cell_type": "code",
   "execution_count": 63,
   "id": "3a0504c3",
   "metadata": {},
   "outputs": [
    {
     "name": "stdout",
     "output_type": "stream",
     "text": [
      "bin_X0 = {(1, 3): 37, (1, 1): 2, (2, 3): 33, (2, 1): 22, (3, 1): 39, (3, 2): 6, (4, 2): 18, (4, 1): 7, (5, 2): 37, (6, 2): 9}\n",
      "\n",
      "\n",
      "bin_X1 = {(1, 3): 16, (1, 1): 2, (2, 3): 54, (2, 1): 16, (3, 1): 46, (3, 2): 4, (4, 2): 22, (4, 1): 6, (5, 2): 39, (6, 2): 5}\n",
      "\n",
      "\n",
      "bin_X2 = {(1, 3): 8, (2, 3): 16, (2, 1): 1, (3, 3): 26, (3, 1): 6, (3, 2): 6, (4, 1): 28, (4, 2): 24, (4, 3): 14, (5, 2): 30, (5, 1): 27, (5, 3): 6, (6, 2): 10, (6, 1): 8}\n",
      "\n",
      "\n",
      "bin_X3 = {(1, 3): 3, (1, 1): 1, (2, 3): 38, (2, 1): 9, (3, 3): 28, (3, 1): 21, (3, 2): 2, (4, 1): 30, (4, 2): 1, (4, 3): 1, (5, 2): 17, (5, 1): 8, (6, 2): 26, (6, 1): 1, (7, 2): 16, (8, 2): 8}\n",
      "\n",
      "\n",
      "bin_X4 = {(1, 3): 29, (2, 3): 30, (2, 1): 6, (3, 1): 24, (3, 3): 10, (4, 1): 26, (4, 2): 5, (4, 3): 1, (5, 2): 21, (5, 1): 13, (6, 2): 25, (6, 1): 1, (7, 2): 17, (8, 2): 2}\n",
      "\n",
      "\n",
      "bin_X5 = {(1, 1): 3, (2, 1): 18, (2, 2): 5, (2, 3): 1, (3, 1): 26, (3, 2): 19, (3, 3): 4, (4, 2): 19, (4, 1): 14, (4, 3): 12, (5, 3): 27, (5, 2): 17, (5, 1): 6, (6, 3): 16, (6, 2): 8, (6, 1): 2, (7, 3): 6, (7, 2): 2, (7, 1): 1, (8, 3): 2, (9, 3): 2}\n",
      "\n",
      "\n",
      "bin_X6 = {(1, 1): 7, (1, 3): 1, (2, 1): 15, (2, 3): 11, (3, 3): 41, (3, 1): 32, (3, 2): 1, (4, 3): 17, (4, 1): 12, (4, 2): 1, (5, 2): 4, (5, 1): 3, (6, 2): 30, (6, 1): 1, (7, 2): 22, (8, 2): 11, (9, 2): 1}\n",
      "\n",
      "\n"
     ]
    }
   ],
   "source": [
    "for i in range(0,7):\n",
    "    print(f'bin_X{i} =', dict(new_df.groupby(f'bin-X{i}')['Y'].value_counts()))\n",
    "    print('\\n')"
   ]
  },
  {
   "cell_type": "code",
   "execution_count": 64,
   "id": "f8167cba",
   "metadata": {},
   "outputs": [],
   "source": [
    "def plotter(d, Title):\n",
    "    d1 = {}; d2 = {}; d3 = {}\n",
    "    max_bin = 1\n",
    "    for key,val in d.items():\n",
    "        feature, y = key\n",
    "        if y==1:\n",
    "            d1[feature] = val\n",
    "        elif y==2:\n",
    "            d2[feature] = val\n",
    "        elif y==3:\n",
    "            d3[feature] = val\n",
    "        max_bin = max(max_bin, feature)\n",
    "        \n",
    "    x = []\n",
    "    for i in range(1,max_bin+1):\n",
    "        x.append(i)\n",
    "        \n",
    "    y1 = [0 for i in range(max_bin)]\n",
    "    for i in d1.keys():\n",
    "        y1[i-1] = d1[i]\n",
    "    \n",
    "    y2 = [0 for i in range(max_bin)]\n",
    "    for i in d2.keys():\n",
    "        y2[i-1] = d2[i]\n",
    "        \n",
    "    y3 = [0 for i in range(max_bin)]\n",
    "    for i in d3.keys():\n",
    "        y3[i-1] = d3[i]\n",
    "        \n",
    "    plt.plot(x,y1,'o-y')\n",
    "    plt.plot(x,y2,'o-m')\n",
    "    plt.plot(x,y3,'o-c')\n",
    "    \n",
    "    plt.xlabel('bins')\n",
    "    plt.ylabel('count')\n",
    "    plt.title(f'Count of each unique element for each class for {Title}')\n",
    "    \n",
    "    plt.show()"
   ]
  },
  {
   "cell_type": "code",
   "execution_count": 65,
   "id": "eb77fa8f",
   "metadata": {},
   "outputs": [],
   "source": [
    "bin_X0 = {(1, 3): 37, (1, 1): 2, (2, 3): 33, (2, 1): 22, (3, 1): 39, (3, 2): 6, (4, 2): 18, (4, 1): 7, (5, 2): 37, (6, 2): 9}\n",
    "\n",
    "\n",
    "bin_X1 = {(1, 3): 16, (1, 1): 2, (2, 3): 54, (2, 1): 16, (3, 1): 46, (3, 2): 4, (4, 2): 22, (4, 1): 6, (5, 2): 39, (6, 2): 5}\n",
    "\n",
    "\n",
    "bin_X2 = {(1, 3): 8, (2, 3): 16, (2, 1): 1, (3, 3): 26, (3, 1): 6, (3, 2): 6, (4, 1): 28, (4, 2): 24, (4, 3): 14, (5, 2): 30, (5, 1): 27, (5, 3): 6, (6, 2): 10, (6, 1): 8}\n",
    "\n",
    "\n",
    "bin_X3 = {(1, 3): 3, (1, 1): 1, (2, 3): 38, (2, 1): 9, (3, 3): 28, (3, 1): 21, (3, 2): 2, (4, 1): 30, (4, 2): 1, (4, 3): 1, (5, 2): 17, (5, 1): 8, (6, 2): 26, (6, 1): 1, (7, 2): 16, (8, 2): 8}\n",
    "\n",
    "\n",
    "bin_X4 = {(1, 3): 29, (2, 3): 30, (2, 1): 6, (3, 1): 24, (3, 3): 10, (4, 1): 26, (4, 2): 5, (4, 3): 1, (5, 2): 21, (5, 1): 13, (6, 2): 25, (6, 1): 1, (7, 2): 17, (8, 2): 2}\n",
    "\n",
    "\n",
    "bin_X5 = {(1, 1): 3, (2, 1): 18, (2, 2): 5, (2, 3): 1, (3, 1): 26, (3, 2): 19, (3, 3): 4, (4, 2): 19, (4, 1): 14, (4, 3): 12, (5, 3): 27, (5, 2): 17, (5, 1): 6, (6, 3): 16, (6, 2): 8, (6, 1): 2, (7, 3): 6, (7, 2): 2, (7, 1): 1, (8, 3): 2, (9, 3): 2}\n",
    "\n",
    "\n",
    "bin_X6 = {(1, 1): 7, (1, 3): 1, (2, 1): 15, (2, 3): 11, (3, 3): 41, (3, 1): 32, (3, 2): 1, (4, 3): 17, (4, 1): 12, (4, 2): 1, (5, 2): 4, (5, 1): 3, (6, 2): 30, (6, 1): 1, (7, 2): 22, (8, 2): 11, (9, 2): 1}"
   ]
  },
  {
   "cell_type": "code",
   "execution_count": 66,
   "id": "87c0298a",
   "metadata": {},
   "outputs": [],
   "source": [
    "all_bins_dict = [bin_X0, bin_X1, bin_X2, bin_X3, bin_X4, bin_X5, bin_X6]"
   ]
  },
  {
   "cell_type": "code",
   "execution_count": 67,
   "id": "f900a3a1",
   "metadata": {},
   "outputs": [
    {
     "data": {
      "image/png": "[encoded data removed]",
      "text/plain": [
       "<Figure size 432x288 with 1 Axes>"
      ]
     },
     "metadata": {
      "needs_background": "light"
     },
     "output_type": "display_data"
    },
    {
     "data": {
      "image/png": "[encoded data removed]",
      "text/plain": [
       "<Figure size 432x288 with 1 Axes>"
      ]
     },
     "metadata": {
      "needs_background": "light"
     },
     "output_type": "display_data"
    },
    {
     "data": {
      "image/png": "[encoded data removed]",
      "text/plain": [
       "<Figure size 432x288 with 1 Axes>"
      ]
     },
     "metadata": {
      "needs_background": "light"
     },
     "output_type": "display_data"
    },
    {
     "data": {
      "image/png": "[encoded data removed]",
      "text/plain": [
       "<Figure size 432x288 with 1 Axes>"
      ]
     },
     "metadata": {
      "needs_background": "light"
     },
     "output_type": "display_data"
    },
    {
     "data": {
      "image/png": "[encoded data removed]",
      "text/plain": [
       "<Figure size 432x288 with 1 Axes>"
      ]
     },
     "metadata": {
      "needs_background": "light"
     },
     "output_type": "display_data"
    },
    {
     "data": {
      "image/png": "[encoded data removed]",
      "text/plain": [
       "<Figure size 432x288 with 1 Axes>"
      ]
     },
     "metadata": {
      "needs_background": "light"
     },
     "output_type": "display_data"
    },
    {
     "data": {
      "image/png": "[encoded data removed]",
      "text/plain": [
       "<Figure size 432x288 with 1 Axes>"
      ]
     },
     "metadata": {
      "needs_background": "light"
     },
     "output_type": "display_data"
    }
   ],
   "source": [
    "for b in range(len(all_bins_dict)):\n",
    "    plotter(all_bins_dict[b], Title=features[b])"
   ]
  },
  {
   "cell_type": "markdown",
   "id": "d01ae605",
   "metadata": {},
   "source": [
    "### (f) Calculate the posterior probabilities and plot them in a single graph."
   ]
  },
  {
   "cell_type": "code",
   "execution_count": 68,
   "id": "53601108",
   "metadata": {},
   "outputs": [],
   "source": [
    "def posterior(new_df, Feature, Bin, Class):\n",
    "    L = len(new_df[new_df[Feature]==Bin])\n",
    "    \n",
    "    new_df = new_df[new_df[Feature]==Bin]\n",
    "    new_df = new_df[new_df['Y']==Class]\n",
    "    \n",
    "    return len(new_df)/L"
   ]
  },
  {
   "cell_type": "code",
   "execution_count": 69,
   "id": "cf30b191",
   "metadata": {},
   "outputs": [],
   "source": [
    "def plot_posterior(new_df, Feature, Title):\n",
    "    length = len(new_df[Feature].unique())\n",
    "    \n",
    "    x = []\n",
    "    for i in range(1,length+1):\n",
    "        x.append(i)\n",
    "\n",
    "    y1 = [0 for i in range(length)]\n",
    "    for i in range(length):\n",
    "        y1[i] = posterior(new_df, Feature, i+1, 1)\n",
    "\n",
    "    y2 = [0 for i in range(length)]\n",
    "    for i in range(length):\n",
    "        y2[i] = posterior(new_df, Feature, i+1, 2)\n",
    "\n",
    "    y3 = [0 for i in range(length)]\n",
    "    for i in range(length):\n",
    "        y3[i] = posterior(new_df, Feature, i+1, 3)\n",
    "\n",
    "    plt.plot(x,y1,'o-y')\n",
    "    plt.plot(x,y2,'o-m')\n",
    "    plt.plot(x,y3,'o-c')\n",
    "\n",
    "    plt.xlabel('bins')\n",
    "    plt.ylabel('posterior probabilities')\n",
    "    plt.title(f'posterior probabilities for {Title}')\n",
    "\n",
    "    plt.show()"
   ]
  },
  {
   "cell_type": "code",
   "execution_count": 70,
   "id": "37e6a34b",
   "metadata": {},
   "outputs": [
    {
     "data": {
      "image/png": "[encoded data removed]",
      "text/plain": [
       "<Figure size 432x288 with 1 Axes>"
      ]
     },
     "metadata": {
      "needs_background": "light"
     },
     "output_type": "display_data"
    },
    {
     "data": {
      "image/png": "[encoded data removed]",
      "text/plain": [
       "<Figure size 432x288 with 1 Axes>"
      ]
     },
     "metadata": {
      "needs_background": "light"
     },
     "output_type": "display_data"
    },
    {
     "data": {
      "image/png": "[encoded data removed]",
      "text/plain": [
       "<Figure size 432x288 with 1 Axes>"
      ]
     },
     "metadata": {
      "needs_background": "light"
     },
     "output_type": "display_data"
    },
    {
     "data": {
      "image/png": "[encoded data removed]",
      "text/plain": [
       "<Figure size 432x288 with 1 Axes>"
      ]
     },
     "metadata": {
      "needs_background": "light"
     },
     "output_type": "display_data"
    },
    {
     "data": {
      "image/png": "[encoded data removed]",
      "text/plain": [
       "<Figure size 432x288 with 1 Axes>"
      ]
     },
     "metadata": {
      "needs_background": "light"
     },
     "output_type": "display_data"
    },
    {
     "data": {
      "image/png": "[encoded data removed]",
      "text/plain": [
       "<Figure size 432x288 with 1 Axes>"
      ]
     },
     "metadata": {
      "needs_background": "light"
     },
     "output_type": "display_data"
    },
    {
     "data": {
      "image/png": "[encoded data removed]",
      "text/plain": [
       "<Figure size 432x288 with 1 Axes>"
      ]
     },
     "metadata": {
      "needs_background": "light"
     },
     "output_type": "display_data"
    }
   ],
   "source": [
    "for feature in ['bin-X0', 'bin-X1', 'bin-X2', 'bin-X3', 'bin-X4', 'bin-X5', 'bin-X6']:\n",
    "    plot_posterior(new_df, feature, feature[4:7])"
   ]
  },
  {
   "cell_type": "code",
   "execution_count": null,
   "id": "df93d874",
   "metadata": {},
   "outputs": [],
   "source": []
  }
 ],
 "metadata": {
  "kernelspec": {
   "display_name": "Python 3 (ipykernel)",
   "language": "python",
   "name": "python3"
  },
  "language_info": {
   "codemirror_mode": {
    "name": "ipython",
    "version": 3
   },
   "file_extension": ".py",
   "mimetype": "text/x-python",
   "name": "python",
   "nbconvert_exporter": "python",
   "pygments_lexer": "ipython3",
   "version": "3.10.7"
  }
 },
 "nbformat": 4,
 "nbformat_minor": 5
}
